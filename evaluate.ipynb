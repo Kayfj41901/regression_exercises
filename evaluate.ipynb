{
 "cells": [
  {
   "cell_type": "code",
   "execution_count": 3,
   "id": "1e6b46c1",
   "metadata": {},
   "outputs": [],
   "source": [
    "import pandas as pd\n",
    "import numpy as np\n",
    "import matplotlib.pyplot as plt\n",
    "from scipy import stats\n",
    "from sklearn.metrics import mean_squared_error, r2_score\n",
    "\n",
    "from sklearn.linear_model import LinearRegression\n",
    "from sklearn.feature_selection import f_regression \n",
    "from math import sqrt\n",
    "import seaborn as sns\n",
    "import warnings\n",
    "import wrangle\n",
    "warnings.filterwarnings('ignore')"
   ]
  },
  {
   "cell_type": "code",
   "execution_count": 4,
   "id": "b182fa83",
   "metadata": {},
   "outputs": [
    {
     "name": "stdout",
     "output_type": "stream",
     "text": [
      "Acquiring data from SQL database\n"
     ]
    }
   ],
   "source": [
    "df = wrangle.wrangle_zillow()"
   ]
  },
  {
   "cell_type": "code",
   "execution_count": 5,
   "id": "89904819",
   "metadata": {},
   "outputs": [],
   "source": [
    "train, validate, test = wrangle.split_zillow_data(df)"
   ]
  },
  {
   "cell_type": "markdown",
   "id": "d02ab281",
   "metadata": {},
   "source": [
    "### Baseline"
   ]
  },
  {
   "cell_type": "code",
   "execution_count": 12,
   "id": "149fb0c7",
   "metadata": {},
   "outputs": [],
   "source": [
    "train_model = train[['calculatedfinishedsquarefeet', 'taxvaluedollarcnt']]"
   ]
  },
  {
   "cell_type": "code",
   "execution_count": 13,
   "id": "ffb7762d",
   "metadata": {},
   "outputs": [
    {
     "data": {
      "text/plain": [
       "295842.2744215938"
      ]
     },
     "execution_count": 13,
     "metadata": {},
     "output_type": "execute_result"
    }
   ],
   "source": [
    "baseline = train_model.taxvaluedollarcnt.mean()\n",
    "baseline"
   ]
  },
  {
   "cell_type": "code",
   "execution_count": 15,
   "id": "bdf7b597",
   "metadata": {},
   "outputs": [
    {
     "data": {
      "text/html": [
       "<div>\n",
       "<style scoped>\n",
       "    .dataframe tbody tr th:only-of-type {\n",
       "        vertical-align: middle;\n",
       "    }\n",
       "\n",
       "    .dataframe tbody tr th {\n",
       "        vertical-align: top;\n",
       "    }\n",
       "\n",
       "    .dataframe thead th {\n",
       "        text-align: right;\n",
       "    }\n",
       "</style>\n",
       "<table border=\"1\" class=\"dataframe\">\n",
       "  <thead>\n",
       "    <tr style=\"text-align: right;\">\n",
       "      <th></th>\n",
       "      <th>calculatedfinishedsquarefeet</th>\n",
       "      <th>taxvaluedollarcnt</th>\n",
       "      <th>baseline</th>\n",
       "    </tr>\n",
       "  </thead>\n",
       "  <tbody>\n",
       "    <tr>\n",
       "      <th>442</th>\n",
       "      <td>1792</td>\n",
       "      <td>585000</td>\n",
       "      <td>295842.274422</td>\n",
       "    </tr>\n",
       "    <tr>\n",
       "      <th>45878</th>\n",
       "      <td>1712</td>\n",
       "      <td>82288</td>\n",
       "      <td>295842.274422</td>\n",
       "    </tr>\n",
       "    <tr>\n",
       "      <th>45857</th>\n",
       "      <td>1422</td>\n",
       "      <td>79348</td>\n",
       "      <td>295842.274422</td>\n",
       "    </tr>\n",
       "    <tr>\n",
       "      <th>11954</th>\n",
       "      <td>1044</td>\n",
       "      <td>202526</td>\n",
       "      <td>295842.274422</td>\n",
       "    </tr>\n",
       "    <tr>\n",
       "      <th>28541</th>\n",
       "      <td>1464</td>\n",
       "      <td>459000</td>\n",
       "      <td>295842.274422</td>\n",
       "    </tr>\n",
       "  </tbody>\n",
       "</table>\n",
       "</div>"
      ],
      "text/plain": [
       "       calculatedfinishedsquarefeet  taxvaluedollarcnt       baseline\n",
       "442                            1792             585000  295842.274422\n",
       "45878                          1712              82288  295842.274422\n",
       "45857                          1422              79348  295842.274422\n",
       "11954                          1044             202526  295842.274422\n",
       "28541                          1464             459000  295842.274422"
      ]
     },
     "execution_count": 15,
     "metadata": {},
     "output_type": "execute_result"
    }
   ],
   "source": [
    "train_model['baseline'] = train_model.taxvaluedollarcnt.mean()\n",
    "train_model.head()"
   ]
  },
  {
   "cell_type": "code",
   "execution_count": 21,
   "id": "0356aba6",
   "metadata": {},
   "outputs": [
    {
     "data": {
      "text/plain": [
       "Text(0.5, 1.0, 'Baseline Model')"
      ]
     },
     "execution_count": 21,
     "metadata": {},
     "output_type": "execute_result"
    },
    {
     "data": {
      "image/png": "[encoded data removed]",
      "text/plain": [
       "<Figure size 432x288 with 1 Axes>"
      ]
     },
     "metadata": {
      "needs_background": "light"
     },
     "output_type": "display_data"
    }
   ],
   "source": [
    "#plot data with baseline: \n",
    "\n",
    "plt.scatter(train_model.calculatedfinishedsquarefeet, train_model.taxvaluedollarcnt)\n",
    "plt.axhline(train_model.taxvaluedollarcnt.mean(), ls = ':', c='red')\n",
    "plt.xlabel('Square Feet')\n",
    "plt.ylabel('Property Tax Value')\n",
    "plt.title('Baseline Model', fontdict = {'fontsize' : 18})"
   ]
  },
  {
   "cell_type": "markdown",
   "id": "250e4520",
   "metadata": {},
   "source": [
    "### Fit a regression model using ordinary least squares method"
   ]
  },
  {
   "cell_type": "code",
   "execution_count": 22,
   "id": "0e00c2c1",
   "metadata": {},
   "outputs": [
    {
     "data": {
      "text/html": [
       "<div>\n",
       "<style scoped>\n",
       "    .dataframe tbody tr th:only-of-type {\n",
       "        vertical-align: middle;\n",
       "    }\n",
       "\n",
       "    .dataframe tbody tr th {\n",
       "        vertical-align: top;\n",
       "    }\n",
       "\n",
       "    .dataframe thead th {\n",
       "        text-align: right;\n",
       "    }\n",
       "</style>\n",
       "<table border=\"1\" class=\"dataframe\">\n",
       "  <thead>\n",
       "    <tr style=\"text-align: right;\">\n",
       "      <th></th>\n",
       "      <th>calculatedfinishedsquarefeet</th>\n",
       "      <th>taxvaluedollarcnt</th>\n",
       "      <th>baseline</th>\n",
       "      <th>yhat</th>\n",
       "    </tr>\n",
       "  </thead>\n",
       "  <tbody>\n",
       "    <tr>\n",
       "      <th>442</th>\n",
       "      <td>1792</td>\n",
       "      <td>585000</td>\n",
       "      <td>295842.274422</td>\n",
       "      <td>310504.427329</td>\n",
       "    </tr>\n",
       "    <tr>\n",
       "      <th>45878</th>\n",
       "      <td>1712</td>\n",
       "      <td>82288</td>\n",
       "      <td>295842.274422</td>\n",
       "      <td>303793.837463</td>\n",
       "    </tr>\n",
       "    <tr>\n",
       "      <th>45857</th>\n",
       "      <td>1422</td>\n",
       "      <td>79348</td>\n",
       "      <td>295842.274422</td>\n",
       "      <td>279467.949196</td>\n",
       "    </tr>\n",
       "    <tr>\n",
       "      <th>11954</th>\n",
       "      <td>1044</td>\n",
       "      <td>202526</td>\n",
       "      <td>295842.274422</td>\n",
       "      <td>247760.412076</td>\n",
       "    </tr>\n",
       "    <tr>\n",
       "      <th>28541</th>\n",
       "      <td>1464</td>\n",
       "      <td>459000</td>\n",
       "      <td>295842.274422</td>\n",
       "      <td>282991.008876</td>\n",
       "    </tr>\n",
       "    <tr>\n",
       "      <th>...</th>\n",
       "      <td>...</td>\n",
       "      <td>...</td>\n",
       "      <td>...</td>\n",
       "      <td>...</td>\n",
       "    </tr>\n",
       "    <tr>\n",
       "      <th>3191</th>\n",
       "      <td>1645</td>\n",
       "      <td>430277</td>\n",
       "      <td>295842.274422</td>\n",
       "      <td>298173.718449</td>\n",
       "    </tr>\n",
       "    <tr>\n",
       "      <th>4497</th>\n",
       "      <td>1056</td>\n",
       "      <td>155000</td>\n",
       "      <td>295842.274422</td>\n",
       "      <td>248767.000556</td>\n",
       "    </tr>\n",
       "    <tr>\n",
       "      <th>2109</th>\n",
       "      <td>1620</td>\n",
       "      <td>92191</td>\n",
       "      <td>295842.274422</td>\n",
       "      <td>296076.659116</td>\n",
       "    </tr>\n",
       "    <tr>\n",
       "      <th>47016</th>\n",
       "      <td>2936</td>\n",
       "      <td>342000</td>\n",
       "      <td>295842.274422</td>\n",
       "      <td>406465.862422</td>\n",
       "    </tr>\n",
       "    <tr>\n",
       "      <th>26560</th>\n",
       "      <td>1301</td>\n",
       "      <td>454000</td>\n",
       "      <td>295842.274422</td>\n",
       "      <td>269318.182023</td>\n",
       "    </tr>\n",
       "  </tbody>\n",
       "</table>\n",
       "<p>21784 rows × 4 columns</p>\n",
       "</div>"
      ],
      "text/plain": [
       "       calculatedfinishedsquarefeet  taxvaluedollarcnt       baseline  \\\n",
       "442                            1792             585000  295842.274422   \n",
       "45878                          1712              82288  295842.274422   \n",
       "45857                          1422              79348  295842.274422   \n",
       "11954                          1044             202526  295842.274422   \n",
       "28541                          1464             459000  295842.274422   \n",
       "...                             ...                ...            ...   \n",
       "3191                           1645             430277  295842.274422   \n",
       "4497                           1056             155000  295842.274422   \n",
       "2109                           1620              92191  295842.274422   \n",
       "47016                          2936             342000  295842.274422   \n",
       "26560                          1301             454000  295842.274422   \n",
       "\n",
       "                yhat  \n",
       "442    310504.427329  \n",
       "45878  303793.837463  \n",
       "45857  279467.949196  \n",
       "11954  247760.412076  \n",
       "28541  282991.008876  \n",
       "...              ...  \n",
       "3191   298173.718449  \n",
       "4497   248767.000556  \n",
       "2109   296076.659116  \n",
       "47016  406465.862422  \n",
       "26560  269318.182023  \n",
       "\n",
       "[21784 rows x 4 columns]"
      ]
     },
     "execution_count": 22,
     "metadata": {},
     "output_type": "execute_result"
    }
   ],
   "source": [
    "#create the model object \n",
    "lm = LinearRegression(normalize=True)\n",
    "\n",
    "#fit the model to training data \n",
    "lm.fit(train_model[['calculatedfinishedsquarefeet']], train_model.taxvaluedollarcnt)\n",
    "\n",
    "#make prediction \n",
    "train_model['yhat'] = lm.predict(train_model[['calculatedfinishedsquarefeet']])\n",
    "\n",
    "train_model"
   ]
  },
  {
   "cell_type": "code",
   "execution_count": 24,
   "id": "7ed642c2",
   "metadata": {},
   "outputs": [
    {
     "data": {
      "text/plain": [
       "Text(0.5, 1.0, 'OLS linear model')"
      ]
     },
     "execution_count": 24,
     "metadata": {},
     "output_type": "execute_result"
    },
    {
     "data": {
      "image/png": "[encoded data removed]",
      "text/plain": [
       "<Figure size 432x288 with 1 Axes>"
      ]
     },
     "metadata": {
      "needs_background": "light"
     },
     "output_type": "display_data"
    }
   ],
   "source": [
    "#Visualize the line of best fit from OLS linear model \n",
    "\n",
    "plt.scatter(train_model.calculatedfinishedsquarefeet, train_model.taxvaluedollarcnt)\n",
    "plt.plot(train_model.calculatedfinishedsquarefeet, train_model.yhat, c='red')\n",
    "plt.xlabel('Square Feet')\n",
    "plt.ylabel('Property Tax Value')\n",
    "plt.title('OLS linear model', fontdict = {'fontsize' : 18})"
   ]
  },
  {
   "cell_type": "markdown",
   "id": "3553b0e3",
   "metadata": {},
   "source": [
    "### Regression Metrics\n",
    "- Compare to baseline \n",
    "- Compare different models with different independent variables"
   ]
  },
  {
   "cell_type": "markdown",
   "id": "212eda4b",
   "metadata": {},
   "source": [
    "### Vocabulary \n",
    "- Residual - error (actual minus predicted)\n",
    "- SSE (sum of squared error)\n",
    "- MSE (mean squared error)\n",
    "- RMSE (root mean squared error)"
   ]
  },
  {
   "cell_type": "code",
   "execution_count": 27,
   "id": "ef3f3a6e",
   "metadata": {},
   "outputs": [],
   "source": [
    "#residual = actual - predicted\n",
    "train_model['residual'] = train_model.taxvaluedollarcnt - train_model.yhat\n",
    "train_model['baseline_residual'] = train_model.taxvaluedollarcnt - train_model.baseline"
   ]
  },
  {
   "cell_type": "code",
   "execution_count": 28,
   "id": "b65a17c4",
   "metadata": {},
   "outputs": [
    {
     "data": {
      "text/html": [
       "<div>\n",
       "<style scoped>\n",
       "    .dataframe tbody tr th:only-of-type {\n",
       "        vertical-align: middle;\n",
       "    }\n",
       "\n",
       "    .dataframe tbody tr th {\n",
       "        vertical-align: top;\n",
       "    }\n",
       "\n",
       "    .dataframe thead th {\n",
       "        text-align: right;\n",
       "    }\n",
       "</style>\n",
       "<table border=\"1\" class=\"dataframe\">\n",
       "  <thead>\n",
       "    <tr style=\"text-align: right;\">\n",
       "      <th></th>\n",
       "      <th>calculatedfinishedsquarefeet</th>\n",
       "      <th>taxvaluedollarcnt</th>\n",
       "      <th>baseline</th>\n",
       "      <th>yhat</th>\n",
       "      <th>residual</th>\n",
       "      <th>baseline_residual</th>\n",
       "    </tr>\n",
       "  </thead>\n",
       "  <tbody>\n",
       "    <tr>\n",
       "      <th>442</th>\n",
       "      <td>1792</td>\n",
       "      <td>585000</td>\n",
       "      <td>295842.274422</td>\n",
       "      <td>310504.427329</td>\n",
       "      <td>274495.572671</td>\n",
       "      <td>289157.725578</td>\n",
       "    </tr>\n",
       "    <tr>\n",
       "      <th>45878</th>\n",
       "      <td>1712</td>\n",
       "      <td>82288</td>\n",
       "      <td>295842.274422</td>\n",
       "      <td>303793.837463</td>\n",
       "      <td>-221505.837463</td>\n",
       "      <td>-213554.274422</td>\n",
       "    </tr>\n",
       "    <tr>\n",
       "      <th>45857</th>\n",
       "      <td>1422</td>\n",
       "      <td>79348</td>\n",
       "      <td>295842.274422</td>\n",
       "      <td>279467.949196</td>\n",
       "      <td>-200119.949196</td>\n",
       "      <td>-216494.274422</td>\n",
       "    </tr>\n",
       "    <tr>\n",
       "      <th>11954</th>\n",
       "      <td>1044</td>\n",
       "      <td>202526</td>\n",
       "      <td>295842.274422</td>\n",
       "      <td>247760.412076</td>\n",
       "      <td>-45234.412076</td>\n",
       "      <td>-93316.274422</td>\n",
       "    </tr>\n",
       "    <tr>\n",
       "      <th>28541</th>\n",
       "      <td>1464</td>\n",
       "      <td>459000</td>\n",
       "      <td>295842.274422</td>\n",
       "      <td>282991.008876</td>\n",
       "      <td>176008.991124</td>\n",
       "      <td>163157.725578</td>\n",
       "    </tr>\n",
       "    <tr>\n",
       "      <th>...</th>\n",
       "      <td>...</td>\n",
       "      <td>...</td>\n",
       "      <td>...</td>\n",
       "      <td>...</td>\n",
       "      <td>...</td>\n",
       "      <td>...</td>\n",
       "    </tr>\n",
       "    <tr>\n",
       "      <th>3191</th>\n",
       "      <td>1645</td>\n",
       "      <td>430277</td>\n",
       "      <td>295842.274422</td>\n",
       "      <td>298173.718449</td>\n",
       "      <td>132103.281551</td>\n",
       "      <td>134434.725578</td>\n",
       "    </tr>\n",
       "    <tr>\n",
       "      <th>4497</th>\n",
       "      <td>1056</td>\n",
       "      <td>155000</td>\n",
       "      <td>295842.274422</td>\n",
       "      <td>248767.000556</td>\n",
       "      <td>-93767.000556</td>\n",
       "      <td>-140842.274422</td>\n",
       "    </tr>\n",
       "    <tr>\n",
       "      <th>2109</th>\n",
       "      <td>1620</td>\n",
       "      <td>92191</td>\n",
       "      <td>295842.274422</td>\n",
       "      <td>296076.659116</td>\n",
       "      <td>-203885.659116</td>\n",
       "      <td>-203651.274422</td>\n",
       "    </tr>\n",
       "    <tr>\n",
       "      <th>47016</th>\n",
       "      <td>2936</td>\n",
       "      <td>342000</td>\n",
       "      <td>295842.274422</td>\n",
       "      <td>406465.862422</td>\n",
       "      <td>-64465.862422</td>\n",
       "      <td>46157.725578</td>\n",
       "    </tr>\n",
       "    <tr>\n",
       "      <th>26560</th>\n",
       "      <td>1301</td>\n",
       "      <td>454000</td>\n",
       "      <td>295842.274422</td>\n",
       "      <td>269318.182023</td>\n",
       "      <td>184681.817977</td>\n",
       "      <td>158157.725578</td>\n",
       "    </tr>\n",
       "  </tbody>\n",
       "</table>\n",
       "<p>21784 rows × 6 columns</p>\n",
       "</div>"
      ],
      "text/plain": [
       "       calculatedfinishedsquarefeet  taxvaluedollarcnt       baseline  \\\n",
       "442                            1792             585000  295842.274422   \n",
       "45878                          1712              82288  295842.274422   \n",
       "45857                          1422              79348  295842.274422   \n",
       "11954                          1044             202526  295842.274422   \n",
       "28541                          1464             459000  295842.274422   \n",
       "...                             ...                ...            ...   \n",
       "3191                           1645             430277  295842.274422   \n",
       "4497                           1056             155000  295842.274422   \n",
       "2109                           1620              92191  295842.274422   \n",
       "47016                          2936             342000  295842.274422   \n",
       "26560                          1301             454000  295842.274422   \n",
       "\n",
       "                yhat       residual  baseline_residual  \n",
       "442    310504.427329  274495.572671      289157.725578  \n",
       "45878  303793.837463 -221505.837463     -213554.274422  \n",
       "45857  279467.949196 -200119.949196     -216494.274422  \n",
       "11954  247760.412076  -45234.412076      -93316.274422  \n",
       "28541  282991.008876  176008.991124      163157.725578  \n",
       "...              ...            ...                ...  \n",
       "3191   298173.718449  132103.281551      134434.725578  \n",
       "4497   248767.000556  -93767.000556     -140842.274422  \n",
       "2109   296076.659116 -203885.659116     -203651.274422  \n",
       "47016  406465.862422  -64465.862422       46157.725578  \n",
       "26560  269318.182023  184681.817977      158157.725578  \n",
       "\n",
       "[21784 rows x 6 columns]"
      ]
     },
     "execution_count": 28,
     "metadata": {},
     "output_type": "execute_result"
    }
   ],
   "source": [
    "train_model"
   ]
  },
  {
   "cell_type": "code",
   "execution_count": 32,
   "id": "a899fc7a",
   "metadata": {},
   "outputs": [
    {
     "name": "stdout",
     "output_type": "stream",
     "text": [
      "MSE 114637318458.59286\n",
      "MSE baseline 28122566511.276142\n"
     ]
    }
   ],
   "source": [
    "from sklearn.metrics import mean_squared_error\n",
    "\n",
    "MSE2 = mean_squared_error(train_model.calculatedfinishedsquarefeet, train_model.taxvaluedollarcnt)\n",
    "MSE2_baseline = mean_squared_error(train_model.taxvaluedollarcnt, train_model.baseline)\n",
    "\n",
    "print(\"MSE\", MSE2) \n",
    "print(\"MSE baseline\" ,MSE2_baseline) "
   ]
  },
  {
   "cell_type": "code",
   "execution_count": 33,
   "id": "4a7ce024",
   "metadata": {},
   "outputs": [
    {
     "name": "stdout",
     "output_type": "stream",
     "text": [
      "SSE 2497259345301987.0\n",
      "SSE baseline 612621988881639.5\n"
     ]
    }
   ],
   "source": [
    "#calculate SSE\n",
    "\n",
    "SSE2 = MSE2 * len(train_model)\n",
    "SSE2_baseline = MSE2_baseline * len(train_model)\n",
    "\n",
    "print(\"SSE\", SSE2) \n",
    "print(\"SSE baseline\" ,SSE2_baseline) "
   ]
  },
  {
   "cell_type": "code",
   "execution_count": 36,
   "id": "4b36bff0",
   "metadata": {},
   "outputs": [
    {
     "name": "stdout",
     "output_type": "stream",
     "text": [
      "RMSE 160808.55207607432\n",
      "RMSE baseline 167697.84289392675\n"
     ]
    }
   ],
   "source": [
    "#calculate RMSE: either take square root of MSE or use sklearn (kwarg 'squared = False')\n",
    "\n",
    "RMSE2 = mean_squared_error(train_model.taxvaluedollarcnt, train_model.yhat, squared = False)\n",
    "RMSE2_baseline = mean_squared_error(train_model.taxvaluedollarcnt, train_model.baseline, squared=False)\n",
    "\n",
    "print(\"RMSE\", RMSE2) \n",
    "print(\"RMSE baseline\" ,RMSE2_baseline)  "
   ]
  },
  {
   "cell_type": "markdown",
   "id": "f5864c9b",
   "metadata": {},
   "source": [
    "### Root Mean Squared Error: RMSE is most often used"
   ]
  },
  {
   "cell_type": "code",
   "execution_count": 38,
   "id": "f09c2b37",
   "metadata": {},
   "outputs": [
    {
     "data": {
      "text/plain": [
       "0.08047544627782044"
      ]
     },
     "execution_count": 38,
     "metadata": {},
     "output_type": "execute_result"
    }
   ],
   "source": [
    "#calculate R2 \n",
    "from sklearn.metrics import r2_score\n",
    "r2_score(train_model.taxvaluedollarcnt, train_model.yhat)"
   ]
  },
  {
   "cell_type": "markdown",
   "id": "b8faf039",
   "metadata": {},
   "source": [
    "### What is the amount of variance explained in your model?"
   ]
  },
  {
   "cell_type": "markdown",
   "id": "8d1f95ed",
   "metadata": {},
   "source": [
    "RMSE = 160808"
   ]
  },
  {
   "cell_type": "markdown",
   "id": "58d88370",
   "metadata": {},
   "source": [
    "### Is your model better than the baseline model?"
   ]
  },
  {
   "cell_type": "markdown",
   "id": "8b9e0ba3",
   "metadata": {},
   "source": [
    "Yes"
   ]
  },
  {
   "cell_type": "code",
   "execution_count": 39,
   "id": "0376f55b",
   "metadata": {},
   "outputs": [],
   "source": [
    "train_Ventura = train[train.location == 'Ventura']"
   ]
  },
  {
   "cell_type": "code",
   "execution_count": null,
   "id": "6802e837",
   "metadata": {},
   "outputs": [],
   "source": []
  },
  {
   "cell_type": "raw",
   "id": "f9f6ed1c",
   "metadata": {},
   "source": []
  },
  {
   "cell_type": "code",
   "execution_count": 40,
   "id": "f059ecbe",
   "metadata": {},
   "outputs": [],
   "source": [
    "train_LA = train[train.location == 'LA']"
   ]
  },
  {
   "cell_type": "code",
   "execution_count": null,
   "id": "02178beb",
   "metadata": {},
   "outputs": [],
   "source": []
  },
  {
   "cell_type": "code",
   "execution_count": 41,
   "id": "09bf2ef4",
   "metadata": {},
   "outputs": [],
   "source": [
    "train_Orange = train[train.location == 'Orange']"
   ]
  },
  {
   "cell_type": "code",
   "execution_count": null,
   "id": "2e2e57e1",
   "metadata": {},
   "outputs": [],
   "source": []
  },
  {
   "cell_type": "markdown",
   "id": "12449ae2",
   "metadata": {},
   "source": [
    "### Ventura"
   ]
  },
  {
   "cell_type": "code",
   "execution_count": 51,
   "id": "95f2c1e1",
   "metadata": {},
   "outputs": [],
   "source": [
    "train_Ventura_X = train_Ventura[['calculatedfinishedsquarefeet', 'taxvaluedollarcnt']]"
   ]
  },
  {
   "cell_type": "code",
   "execution_count": 52,
   "id": "89be3a0e",
   "metadata": {},
   "outputs": [
    {
     "data": {
      "text/plain": [
       "349795.85888212506"
      ]
     },
     "execution_count": 52,
     "metadata": {},
     "output_type": "execute_result"
    }
   ],
   "source": [
    "baseline = train_V.taxvaluedollarcnt.mean()\n",
    "baseline"
   ]
  },
  {
   "cell_type": "code",
   "execution_count": 53,
   "id": "5b939d71",
   "metadata": {},
   "outputs": [
    {
     "data": {
      "text/html": [
       "<div>\n",
       "<style scoped>\n",
       "    .dataframe tbody tr th:only-of-type {\n",
       "        vertical-align: middle;\n",
       "    }\n",
       "\n",
       "    .dataframe tbody tr th {\n",
       "        vertical-align: top;\n",
       "    }\n",
       "\n",
       "    .dataframe thead th {\n",
       "        text-align: right;\n",
       "    }\n",
       "</style>\n",
       "<table border=\"1\" class=\"dataframe\">\n",
       "  <thead>\n",
       "    <tr style=\"text-align: right;\">\n",
       "      <th></th>\n",
       "      <th>calculatedfinishedsquarefeet</th>\n",
       "      <th>taxvaluedollarcnt</th>\n",
       "      <th>baseline</th>\n",
       "    </tr>\n",
       "  </thead>\n",
       "  <tbody>\n",
       "    <tr>\n",
       "      <th>45878</th>\n",
       "      <td>1712</td>\n",
       "      <td>82288</td>\n",
       "      <td>349795.858882</td>\n",
       "    </tr>\n",
       "    <tr>\n",
       "      <th>32478</th>\n",
       "      <td>2209</td>\n",
       "      <td>477462</td>\n",
       "      <td>349795.858882</td>\n",
       "    </tr>\n",
       "    <tr>\n",
       "      <th>27558</th>\n",
       "      <td>1465</td>\n",
       "      <td>350261</td>\n",
       "      <td>349795.858882</td>\n",
       "    </tr>\n",
       "    <tr>\n",
       "      <th>17210</th>\n",
       "      <td>2218</td>\n",
       "      <td>406655</td>\n",
       "      <td>349795.858882</td>\n",
       "    </tr>\n",
       "    <tr>\n",
       "      <th>42166</th>\n",
       "      <td>1698</td>\n",
       "      <td>286606</td>\n",
       "      <td>349795.858882</td>\n",
       "    </tr>\n",
       "  </tbody>\n",
       "</table>\n",
       "</div>"
      ],
      "text/plain": [
       "       calculatedfinishedsquarefeet  taxvaluedollarcnt       baseline\n",
       "45878                          1712              82288  349795.858882\n",
       "32478                          2209             477462  349795.858882\n",
       "27558                          1465             350261  349795.858882\n",
       "17210                          2218             406655  349795.858882\n",
       "42166                          1698             286606  349795.858882"
      ]
     },
     "execution_count": 53,
     "metadata": {},
     "output_type": "execute_result"
    }
   ],
   "source": [
    "train_V['baseline'] = train_V.taxvaluedollarcnt.mean()\n",
    "train_V.head()"
   ]
  },
  {
   "cell_type": "code",
   "execution_count": 55,
   "id": "309d5b25",
   "metadata": {},
   "outputs": [
    {
     "data": {
      "text/html": [
       "<div>\n",
       "<style scoped>\n",
       "    .dataframe tbody tr th:only-of-type {\n",
       "        vertical-align: middle;\n",
       "    }\n",
       "\n",
       "    .dataframe tbody tr th {\n",
       "        vertical-align: top;\n",
       "    }\n",
       "\n",
       "    .dataframe thead th {\n",
       "        text-align: right;\n",
       "    }\n",
       "</style>\n",
       "<table border=\"1\" class=\"dataframe\">\n",
       "  <thead>\n",
       "    <tr style=\"text-align: right;\">\n",
       "      <th></th>\n",
       "      <th>calculatedfinishedsquarefeet</th>\n",
       "      <th>taxvaluedollarcnt</th>\n",
       "      <th>baseline</th>\n",
       "      <th>yhat</th>\n",
       "    </tr>\n",
       "  </thead>\n",
       "  <tbody>\n",
       "    <tr>\n",
       "      <th>45878</th>\n",
       "      <td>1712</td>\n",
       "      <td>82288</td>\n",
       "      <td>349795.858882</td>\n",
       "      <td>345952.457254</td>\n",
       "    </tr>\n",
       "    <tr>\n",
       "      <th>32478</th>\n",
       "      <td>2209</td>\n",
       "      <td>477462</td>\n",
       "      <td>349795.858882</td>\n",
       "      <td>406855.470766</td>\n",
       "    </tr>\n",
       "    <tr>\n",
       "      <th>27558</th>\n",
       "      <td>1465</td>\n",
       "      <td>350261</td>\n",
       "      <td>349795.858882</td>\n",
       "      <td>315684.762410</td>\n",
       "    </tr>\n",
       "    <tr>\n",
       "      <th>17210</th>\n",
       "      <td>2218</td>\n",
       "      <td>406655</td>\n",
       "      <td>349795.858882</td>\n",
       "      <td>407958.342239</td>\n",
       "    </tr>\n",
       "    <tr>\n",
       "      <th>42166</th>\n",
       "      <td>1698</td>\n",
       "      <td>286606</td>\n",
       "      <td>349795.858882</td>\n",
       "      <td>344236.879409</td>\n",
       "    </tr>\n",
       "    <tr>\n",
       "      <th>...</th>\n",
       "      <td>...</td>\n",
       "      <td>...</td>\n",
       "      <td>...</td>\n",
       "      <td>...</td>\n",
       "    </tr>\n",
       "    <tr>\n",
       "      <th>13579</th>\n",
       "      <td>1443</td>\n",
       "      <td>438372</td>\n",
       "      <td>349795.858882</td>\n",
       "      <td>312988.854367</td>\n",
       "    </tr>\n",
       "    <tr>\n",
       "      <th>43036</th>\n",
       "      <td>1756</td>\n",
       "      <td>249681</td>\n",
       "      <td>349795.858882</td>\n",
       "      <td>351344.273340</td>\n",
       "    </tr>\n",
       "    <tr>\n",
       "      <th>45426</th>\n",
       "      <td>3187</td>\n",
       "      <td>538793</td>\n",
       "      <td>349795.858882</td>\n",
       "      <td>526700.837397</td>\n",
       "    </tr>\n",
       "    <tr>\n",
       "      <th>36225</th>\n",
       "      <td>1469</td>\n",
       "      <td>402000</td>\n",
       "      <td>349795.858882</td>\n",
       "      <td>316174.927508</td>\n",
       "    </tr>\n",
       "    <tr>\n",
       "      <th>50693</th>\n",
       "      <td>1720</td>\n",
       "      <td>68256</td>\n",
       "      <td>349795.858882</td>\n",
       "      <td>346932.787451</td>\n",
       "    </tr>\n",
       "  </tbody>\n",
       "</table>\n",
       "<p>1807 rows × 4 columns</p>\n",
       "</div>"
      ],
      "text/plain": [
       "       calculatedfinishedsquarefeet  taxvaluedollarcnt       baseline  \\\n",
       "45878                          1712              82288  349795.858882   \n",
       "32478                          2209             477462  349795.858882   \n",
       "27558                          1465             350261  349795.858882   \n",
       "17210                          2218             406655  349795.858882   \n",
       "42166                          1698             286606  349795.858882   \n",
       "...                             ...                ...            ...   \n",
       "13579                          1443             438372  349795.858882   \n",
       "43036                          1756             249681  349795.858882   \n",
       "45426                          3187             538793  349795.858882   \n",
       "36225                          1469             402000  349795.858882   \n",
       "50693                          1720              68256  349795.858882   \n",
       "\n",
       "                yhat  \n",
       "45878  345952.457254  \n",
       "32478  406855.470766  \n",
       "27558  315684.762410  \n",
       "17210  407958.342239  \n",
       "42166  344236.879409  \n",
       "...              ...  \n",
       "13579  312988.854367  \n",
       "43036  351344.273340  \n",
       "45426  526700.837397  \n",
       "36225  316174.927508  \n",
       "50693  346932.787451  \n",
       "\n",
       "[1807 rows x 4 columns]"
      ]
     },
     "execution_count": 55,
     "metadata": {},
     "output_type": "execute_result"
    }
   ],
   "source": [
    "#create the model object \n",
    "lm = LinearRegression(normalize=True)\n",
    "\n",
    "#fit the model to training data \n",
    "lm.fit(train_V[['calculatedfinishedsquarefeet']], train_V.taxvaluedollarcnt)\n",
    "\n",
    "#make prediction \n",
    "train_V['yhat'] = lm.predict(train_V[['calculatedfinishedsquarefeet']])\n",
    "\n",
    "train_V"
   ]
  },
  {
   "cell_type": "code",
   "execution_count": 56,
   "id": "a89bcd25",
   "metadata": {},
   "outputs": [],
   "source": [
    "train_V['residual'] = train_V.taxvaluedollarcnt - train_V.yhat\n",
    "train_V['baseline_residual'] = train_V.taxvaluedollarcnt - train_V.baseline"
   ]
  },
  {
   "cell_type": "code",
   "execution_count": 57,
   "id": "56b70410",
   "metadata": {},
   "outputs": [
    {
     "data": {
      "text/html": [
       "<div>\n",
       "<style scoped>\n",
       "    .dataframe tbody tr th:only-of-type {\n",
       "        vertical-align: middle;\n",
       "    }\n",
       "\n",
       "    .dataframe tbody tr th {\n",
       "        vertical-align: top;\n",
       "    }\n",
       "\n",
       "    .dataframe thead th {\n",
       "        text-align: right;\n",
       "    }\n",
       "</style>\n",
       "<table border=\"1\" class=\"dataframe\">\n",
       "  <thead>\n",
       "    <tr style=\"text-align: right;\">\n",
       "      <th></th>\n",
       "      <th>calculatedfinishedsquarefeet</th>\n",
       "      <th>taxvaluedollarcnt</th>\n",
       "      <th>baseline</th>\n",
       "      <th>yhat</th>\n",
       "      <th>residual</th>\n",
       "      <th>baseline_residual</th>\n",
       "    </tr>\n",
       "  </thead>\n",
       "  <tbody>\n",
       "    <tr>\n",
       "      <th>45878</th>\n",
       "      <td>1712</td>\n",
       "      <td>82288</td>\n",
       "      <td>349795.858882</td>\n",
       "      <td>345952.457254</td>\n",
       "      <td>-263664.457254</td>\n",
       "      <td>-267507.858882</td>\n",
       "    </tr>\n",
       "    <tr>\n",
       "      <th>32478</th>\n",
       "      <td>2209</td>\n",
       "      <td>477462</td>\n",
       "      <td>349795.858882</td>\n",
       "      <td>406855.470766</td>\n",
       "      <td>70606.529234</td>\n",
       "      <td>127666.141118</td>\n",
       "    </tr>\n",
       "    <tr>\n",
       "      <th>27558</th>\n",
       "      <td>1465</td>\n",
       "      <td>350261</td>\n",
       "      <td>349795.858882</td>\n",
       "      <td>315684.762410</td>\n",
       "      <td>34576.237590</td>\n",
       "      <td>465.141118</td>\n",
       "    </tr>\n",
       "    <tr>\n",
       "      <th>17210</th>\n",
       "      <td>2218</td>\n",
       "      <td>406655</td>\n",
       "      <td>349795.858882</td>\n",
       "      <td>407958.342239</td>\n",
       "      <td>-1303.342239</td>\n",
       "      <td>56859.141118</td>\n",
       "    </tr>\n",
       "    <tr>\n",
       "      <th>42166</th>\n",
       "      <td>1698</td>\n",
       "      <td>286606</td>\n",
       "      <td>349795.858882</td>\n",
       "      <td>344236.879409</td>\n",
       "      <td>-57630.879409</td>\n",
       "      <td>-63189.858882</td>\n",
       "    </tr>\n",
       "    <tr>\n",
       "      <th>...</th>\n",
       "      <td>...</td>\n",
       "      <td>...</td>\n",
       "      <td>...</td>\n",
       "      <td>...</td>\n",
       "      <td>...</td>\n",
       "      <td>...</td>\n",
       "    </tr>\n",
       "    <tr>\n",
       "      <th>13579</th>\n",
       "      <td>1443</td>\n",
       "      <td>438372</td>\n",
       "      <td>349795.858882</td>\n",
       "      <td>312988.854367</td>\n",
       "      <td>125383.145633</td>\n",
       "      <td>88576.141118</td>\n",
       "    </tr>\n",
       "    <tr>\n",
       "      <th>43036</th>\n",
       "      <td>1756</td>\n",
       "      <td>249681</td>\n",
       "      <td>349795.858882</td>\n",
       "      <td>351344.273340</td>\n",
       "      <td>-101663.273340</td>\n",
       "      <td>-100114.858882</td>\n",
       "    </tr>\n",
       "    <tr>\n",
       "      <th>45426</th>\n",
       "      <td>3187</td>\n",
       "      <td>538793</td>\n",
       "      <td>349795.858882</td>\n",
       "      <td>526700.837397</td>\n",
       "      <td>12092.162603</td>\n",
       "      <td>188997.141118</td>\n",
       "    </tr>\n",
       "    <tr>\n",
       "      <th>36225</th>\n",
       "      <td>1469</td>\n",
       "      <td>402000</td>\n",
       "      <td>349795.858882</td>\n",
       "      <td>316174.927508</td>\n",
       "      <td>85825.072492</td>\n",
       "      <td>52204.141118</td>\n",
       "    </tr>\n",
       "    <tr>\n",
       "      <th>50693</th>\n",
       "      <td>1720</td>\n",
       "      <td>68256</td>\n",
       "      <td>349795.858882</td>\n",
       "      <td>346932.787451</td>\n",
       "      <td>-278676.787451</td>\n",
       "      <td>-281539.858882</td>\n",
       "    </tr>\n",
       "  </tbody>\n",
       "</table>\n",
       "<p>1807 rows × 6 columns</p>\n",
       "</div>"
      ],
      "text/plain": [
       "       calculatedfinishedsquarefeet  taxvaluedollarcnt       baseline  \\\n",
       "45878                          1712              82288  349795.858882   \n",
       "32478                          2209             477462  349795.858882   \n",
       "27558                          1465             350261  349795.858882   \n",
       "17210                          2218             406655  349795.858882   \n",
       "42166                          1698             286606  349795.858882   \n",
       "...                             ...                ...            ...   \n",
       "13579                          1443             438372  349795.858882   \n",
       "43036                          1756             249681  349795.858882   \n",
       "45426                          3187             538793  349795.858882   \n",
       "36225                          1469             402000  349795.858882   \n",
       "50693                          1720              68256  349795.858882   \n",
       "\n",
       "                yhat       residual  baseline_residual  \n",
       "45878  345952.457254 -263664.457254     -267507.858882  \n",
       "32478  406855.470766   70606.529234      127666.141118  \n",
       "27558  315684.762410   34576.237590         465.141118  \n",
       "17210  407958.342239   -1303.342239       56859.141118  \n",
       "42166  344236.879409  -57630.879409      -63189.858882  \n",
       "...              ...            ...                ...  \n",
       "13579  312988.854367  125383.145633       88576.141118  \n",
       "43036  351344.273340 -101663.273340     -100114.858882  \n",
       "45426  526700.837397   12092.162603      188997.141118  \n",
       "36225  316174.927508   85825.072492       52204.141118  \n",
       "50693  346932.787451 -278676.787451     -281539.858882  \n",
       "\n",
       "[1807 rows x 6 columns]"
      ]
     },
     "execution_count": 57,
     "metadata": {},
     "output_type": "execute_result"
    }
   ],
   "source": [
    "train_V"
   ]
  },
  {
   "cell_type": "code",
   "execution_count": 61,
   "id": "080d1e39",
   "metadata": {},
   "outputs": [
    {
     "name": "stdout",
     "output_type": "stream",
     "text": [
      "MSE 147696938148.82236\n",
      "MSE baseline 26626632277.064205\n"
     ]
    }
   ],
   "source": [
    "from sklearn.metrics import mean_squared_error\n",
    "\n",
    "MSE2 = mean_squared_error(train_V.calculatedfinishedsquarefeet, train_V.taxvaluedollarcnt)\n",
    "MSE2_baseline = mean_squared_error(train_V.taxvaluedollarcnt, train_V.baseline)\n",
    "\n",
    "print(\"MSE\", MSE2) \n",
    "print(\"MSE baseline\" ,MSE2_baseline) "
   ]
  },
  {
   "cell_type": "code",
   "execution_count": 62,
   "id": "2e4b34a3",
   "metadata": {},
   "outputs": [
    {
     "name": "stdout",
     "output_type": "stream",
     "text": [
      "SSE 266888367234922.0\n",
      "SSE baseline 48114324524655.016\n"
     ]
    }
   ],
   "source": [
    "SSE2 = MSE2 * len(train_V)\n",
    "SSE2_baseline = MSE2_baseline * len(train_V)\n",
    "\n",
    "print(\"SSE\", SSE2) \n",
    "print(\"SSE baseline\" ,SSE2_baseline) "
   ]
  },
  {
   "cell_type": "code",
   "execution_count": 63,
   "id": "cdefaefd",
   "metadata": {},
   "outputs": [
    {
     "name": "stdout",
     "output_type": "stream",
     "text": [
      "RMSE 149351.15529179946\n",
      "RMSE baseline 163176.69036067685\n"
     ]
    }
   ],
   "source": [
    "RMSE2 = mean_squared_error(train_V.taxvaluedollarcnt, train_V.yhat, squared = False)\n",
    "RMSE2_baseline = mean_squared_error(train_V.taxvaluedollarcnt, train_V.baseline, squared=False)\n",
    "\n",
    "print(\"RMSE\", RMSE2) \n",
    "print(\"RMSE baseline\" ,RMSE2_baseline)  "
   ]
  },
  {
   "cell_type": "code",
   "execution_count": 64,
   "id": "c0666c9d",
   "metadata": {},
   "outputs": [
    {
     "data": {
      "text/plain": [
       "0.16227604922425498"
      ]
     },
     "execution_count": 64,
     "metadata": {},
     "output_type": "execute_result"
    }
   ],
   "source": [
    "from sklearn.metrics import r2_score\n",
    "r2_score(train_V.taxvaluedollarcnt, train_V.yhat)"
   ]
  },
  {
   "cell_type": "markdown",
   "id": "e4019424",
   "metadata": {},
   "source": [
    "### Orange"
   ]
  },
  {
   "cell_type": "code",
   "execution_count": 65,
   "id": "56769c50",
   "metadata": {},
   "outputs": [],
   "source": [
    "train_O = train_Orange[['calculatedfinishedsquarefeet', 'taxvaluedollarcnt']]"
   ]
  },
  {
   "cell_type": "code",
   "execution_count": 66,
   "id": "d6c93e3a",
   "metadata": {},
   "outputs": [
    {
     "data": {
      "text/plain": [
       "335525.42802814225"
      ]
     },
     "execution_count": 66,
     "metadata": {},
     "output_type": "execute_result"
    }
   ],
   "source": [
    "baseline = train_O.taxvaluedollarcnt.mean()\n",
    "baseline"
   ]
  },
  {
   "cell_type": "code",
   "execution_count": 67,
   "id": "b5503c74",
   "metadata": {},
   "outputs": [],
   "source": [
    "train_O['baseline'] = train_O.taxvaluedollarcnt.mean()"
   ]
  },
  {
   "cell_type": "code",
   "execution_count": 68,
   "id": "a46299e2",
   "metadata": {},
   "outputs": [],
   "source": [
    "#create the model object \n",
    "lm = LinearRegression(normalize=True)\n",
    "\n",
    "#fit the model to training data \n",
    "lm.fit(train_O[['calculatedfinishedsquarefeet']], train_O.taxvaluedollarcnt)\n",
    "\n",
    "#make prediction \n",
    "train_O['yhat'] = lm.predict(train_O[['calculatedfinishedsquarefeet']])"
   ]
  },
  {
   "cell_type": "code",
   "execution_count": 69,
   "id": "6aff4e5c",
   "metadata": {},
   "outputs": [],
   "source": [
    "train_O['residual'] = train_O.taxvaluedollarcnt - train_O.yhat\n",
    "train_O['baseline_residual'] = train_O.taxvaluedollarcnt - train_O.baseline"
   ]
  },
  {
   "cell_type": "code",
   "execution_count": 70,
   "id": "f2d7c9b4",
   "metadata": {},
   "outputs": [
    {
     "name": "stdout",
     "output_type": "stream",
     "text": [
      "MSE 140940566518.8188\n",
      "MSE baseline 29557943701.519966\n"
     ]
    }
   ],
   "source": [
    "from sklearn.metrics import mean_squared_error\n",
    "\n",
    "MSE2 = mean_squared_error(train_O.calculatedfinishedsquarefeet, train_O.taxvaluedollarcnt)\n",
    "MSE2_baseline = mean_squared_error(train_O.taxvaluedollarcnt, train_O.baseline)\n",
    "\n",
    "print(\"MSE\", MSE2) \n",
    "print(\"MSE baseline\" ,MSE2_baseline) "
   ]
  },
  {
   "cell_type": "code",
   "execution_count": 71,
   "id": "888980f3",
   "metadata": {},
   "outputs": [
    {
     "name": "stdout",
     "output_type": "stream",
     "text": [
      "SSE 741206439322468.0\n",
      "SSE baseline 155445225926293.5\n"
     ]
    }
   ],
   "source": [
    "SSE2 = MSE2 * len(train_O)\n",
    "SSE2_baseline = MSE2_baseline * len(train_O)\n",
    "\n",
    "print(\"SSE\", SSE2) \n",
    "print(\"SSE baseline\" ,SSE2_baseline) "
   ]
  },
  {
   "cell_type": "code",
   "execution_count": 72,
   "id": "b4734b41",
   "metadata": {},
   "outputs": [
    {
     "name": "stdout",
     "output_type": "stream",
     "text": [
      "RMSE 167665.13696260873\n",
      "RMSE baseline 171924.23826069426\n"
     ]
    }
   ],
   "source": [
    "RMSE2 = mean_squared_error(train_O.taxvaluedollarcnt, train_O.yhat, squared = False)\n",
    "RMSE2_baseline = mean_squared_error(train_O.taxvaluedollarcnt, train_O.baseline, squared=False)\n",
    "\n",
    "print(\"RMSE\", RMSE2) \n",
    "print(\"RMSE baseline\" ,RMSE2_baseline)  "
   ]
  },
  {
   "cell_type": "code",
   "execution_count": 75,
   "id": "15aec6ff",
   "metadata": {},
   "outputs": [
    {
     "data": {
      "text/plain": [
       "0.048932549687319526"
      ]
     },
     "execution_count": 75,
     "metadata": {},
     "output_type": "execute_result"
    }
   ],
   "source": [
    "from sklearn.metrics import r2_score\n",
    "r2_score(train_O.taxvaluedollarcnt, train_O.yhat)"
   ]
  },
  {
   "cell_type": "markdown",
   "id": "aeeadb7f",
   "metadata": {},
   "source": [
    "### LA"
   ]
  },
  {
   "cell_type": "code",
   "execution_count": 76,
   "id": "3002cc94",
   "metadata": {},
   "outputs": [],
   "source": [
    "train_L = train_LA[['calculatedfinishedsquarefeet', 'taxvaluedollarcnt']]"
   ]
  },
  {
   "cell_type": "code",
   "execution_count": 77,
   "id": "6b682e5b",
   "metadata": {},
   "outputs": [
    {
     "data": {
      "text/plain": [
       "275038.64404130995"
      ]
     },
     "execution_count": 77,
     "metadata": {},
     "output_type": "execute_result"
    }
   ],
   "source": [
    "baseline = train_L.taxvaluedollarcnt.mean()\n",
    "baseline"
   ]
  },
  {
   "cell_type": "code",
   "execution_count": 78,
   "id": "a9bf5d57",
   "metadata": {},
   "outputs": [],
   "source": [
    "train_L['baseline'] = train_L.taxvaluedollarcnt.mean()"
   ]
  },
  {
   "cell_type": "code",
   "execution_count": 79,
   "id": "697a32ef",
   "metadata": {},
   "outputs": [],
   "source": [
    "#create the model object \n",
    "lm = LinearRegression(normalize=True)\n",
    "\n",
    "#fit the model to training data \n",
    "lm.fit(train_L[['calculatedfinishedsquarefeet']], train_L.taxvaluedollarcnt)\n",
    "\n",
    "#make prediction \n",
    "train_L['yhat'] = lm.predict(train_L[['calculatedfinishedsquarefeet']])"
   ]
  },
  {
   "cell_type": "code",
   "execution_count": 80,
   "id": "e0ebf300",
   "metadata": {},
   "outputs": [],
   "source": [
    "train_L['residual'] = train_L.taxvaluedollarcnt - train_L.yhat\n",
    "train_L['baseline_residual'] = train_L.taxvaluedollarcnt - train_L.baseline"
   ]
  },
  {
   "cell_type": "code",
   "execution_count": 81,
   "id": "1e97ae2c",
   "metadata": {},
   "outputs": [
    {
     "name": "stdout",
     "output_type": "stream",
     "text": [
      "MSE 101179816465.86473\n",
      "MSE baseline 26440470035.411205\n"
     ]
    }
   ],
   "source": [
    "from sklearn.metrics import mean_squared_error\n",
    "\n",
    "MSE2 = mean_squared_error(train_L.calculatedfinishedsquarefeet, train_L.taxvaluedollarcnt)\n",
    "MSE2_baseline = mean_squared_error(train_L.taxvaluedollarcnt, train_L.baseline)\n",
    "\n",
    "print(\"MSE\", MSE2) \n",
    "print(\"MSE baseline\" ,MSE2_baseline) "
   ]
  },
  {
   "cell_type": "code",
   "execution_count": 82,
   "id": "5911e9e6",
   "metadata": {},
   "outputs": [
    {
     "name": "stdout",
     "output_type": "stream",
     "text": [
      "SSE 1489164538744597.0\n",
      "SSE baseline 389150837981182.1\n"
     ]
    }
   ],
   "source": [
    "SSE2 = MSE2 * len(train_L)\n",
    "SSE2_baseline = MSE2_baseline * len(train_L)\n",
    "\n",
    "print(\"SSE\", SSE2) \n",
    "print(\"SSE baseline\" ,SSE2_baseline) "
   ]
  },
  {
   "cell_type": "code",
   "execution_count": 83,
   "id": "eb46f67c",
   "metadata": {},
   "outputs": [
    {
     "name": "stdout",
     "output_type": "stream",
     "text": [
      "RMSE 156710.60676541453\n",
      "RMSE baseline 162605.25832644897\n"
     ]
    }
   ],
   "source": [
    "RMSE2 = mean_squared_error(train_L.taxvaluedollarcnt, train_L.yhat, squared = False)\n",
    "RMSE2_baseline = mean_squared_error(train_L.taxvaluedollarcnt, train_L.baseline, squared=False)\n",
    "\n",
    "print(\"RMSE\", RMSE2) \n",
    "print(\"RMSE baseline\" ,RMSE2_baseline)  "
   ]
  },
  {
   "cell_type": "code",
   "execution_count": 84,
   "id": "5213eda6",
   "metadata": {},
   "outputs": [
    {
     "data": {
      "text/plain": [
       "0.07118843803101649"
      ]
     },
     "execution_count": 84,
     "metadata": {},
     "output_type": "execute_result"
    }
   ],
   "source": [
    "from sklearn.metrics import r2_score\n",
    "r2_score(train_L.taxvaluedollarcnt, train_L.yhat)"
   ]
  },
  {
   "cell_type": "code",
   "execution_count": 85,
   "id": "fbdfa5b8",
   "metadata": {},
   "outputs": [
    {
     "ename": "NameError",
     "evalue": "name 'get_connection' is not defined",
     "output_type": "error",
     "traceback": [
      "\u001b[0;31m---------------------------------------------------------------------------\u001b[0m",
      "\u001b[0;31mNameError\u001b[0m                                 Traceback (most recent call last)",
      "\u001b[0;32m/var/folders/lt/mq77_h29005b8q_dkwt9pz000000gn/T/ipykernel_24266/3087664527.py\u001b[0m in \u001b[0;36m<module>\u001b[0;34m\u001b[0m\n\u001b[1;32m      7\u001b[0m            \u001b[0mWHERE\u001b[0m \u001b[0mpropertylandusedesc\u001b[0m \u001b[0mIN\u001b[0m \u001b[0;34m(\u001b[0m\u001b[0;34m\"Single Family Residential\"\u001b[0m\u001b[0;34m,\u001b[0m \u001b[0;34m\"Inferred Single Family Residential\"\u001b[0m\u001b[0;34m)\u001b[0m\u001b[0;34m;\u001b[0m\u001b[0;34m\u001b[0m\u001b[0;34m\u001b[0m\u001b[0m\n\u001b[1;32m      8\u001b[0m          ''' \n\u001b[0;32m----> 9\u001b[0;31m \u001b[0mdf\u001b[0m \u001b[0;34m=\u001b[0m \u001b[0mpd\u001b[0m\u001b[0;34m.\u001b[0m\u001b[0mread_sql\u001b[0m\u001b[0;34m(\u001b[0m\u001b[0mquery\u001b[0m\u001b[0;34m,\u001b[0m \u001b[0mget_connection\u001b[0m\u001b[0;34m(\u001b[0m\u001b[0;34m'zillow'\u001b[0m\u001b[0;34m)\u001b[0m\u001b[0;34m)\u001b[0m\u001b[0;34m\u001b[0m\u001b[0;34m\u001b[0m\u001b[0m\n\u001b[0m\u001b[1;32m     10\u001b[0m \u001b[0;34m\u001b[0m\u001b[0m\n\u001b[1;32m     11\u001b[0m \u001b[0mdf\u001b[0m\u001b[0;34m.\u001b[0m\u001b[0mhead\u001b[0m\u001b[0;34m(\u001b[0m\u001b[0;34m)\u001b[0m\u001b[0;34m\u001b[0m\u001b[0;34m\u001b[0m\u001b[0m\n",
      "\u001b[0;31mNameError\u001b[0m: name 'get_connection' is not defined"
     ]
    }
   ],
   "source": [
    "query = '''SELECT bedroomcnt, bathroomcnt, garagecarcnt, regionidcity, calculatedfinishedsquarefeet, propertylandusedesc, taxvaluedollarcnt, yearbuilt, fips, transactiondate \n",
    "           FROM zillow.propertylandusetype \n",
    "           RIGHT JOIN zillow.properties_2017 \n",
    "             ON propertylandusetype.propertylandusetypeid = properties_2017.propertylandusetypeid\n",
    "           JOIN zillow.predictions_2017 \n",
    "             ON properties_2017.parcelid = predictions_2017.parcelid\n",
    "           WHERE propertylandusedesc IN (\"Single Family Residential\", \"Inferred Single Family Residential\");\n",
    "         ''' \n",
    "df = pd.read_sql(query, get_connection('zillow'))\n",
    "\n",
    "df.head()"
   ]
  },
  {
   "cell_type": "code",
   "execution_count": null,
   "id": "16c2b3fe",
   "metadata": {},
   "outputs": [],
   "source": []
  },
  {
   "cell_type": "code",
   "execution_count": null,
   "id": "b990337a",
   "metadata": {},
   "outputs": [],
   "source": []
  },
  {
   "cell_type": "code",
   "execution_count": null,
   "id": "f0874c40",
   "metadata": {},
   "outputs": [],
   "source": []
  },
  {
   "cell_type": "code",
   "execution_count": null,
   "id": "151d38e8",
   "metadata": {},
   "outputs": [],
   "source": []
  },
  {
   "cell_type": "code",
   "execution_count": null,
   "id": "6b98b374",
   "metadata": {},
   "outputs": [],
   "source": []
  }
 ],
 "metadata": {
  "kernelspec": {
   "display_name": "Python 3 (ipykernel)",
   "language": "python",
   "name": "python3"
  },
  "language_info": {
   "codemirror_mode": {
    "name": "ipython",
    "version": 3
   },
   "file_extension": ".py",
   "mimetype": "text/x-python",
   "name": "python",
   "nbconvert_exporter": "python",
   "pygments_lexer": "ipython3",
   "version": "3.9.7"
  }
 },
 "nbformat": 4,
 "nbformat_minor": 5
}
