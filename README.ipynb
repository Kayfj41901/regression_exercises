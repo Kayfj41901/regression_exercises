{
 "cells": [
  {
   "cell_type": "markdown",
   "id": "89b89da4",
   "metadata": {},
   "source": [
    "### Project Description"
   ]
  },
  {
   "cell_type": "markdown",
   "id": "c554c49f",
   "metadata": {},
   "source": [
    "The purpose of this project is to create a model (or multiple models) that outperforms the baseline model for predicting home values. At the end of this process, I discover one new insight into how a feature affects model performance. I hope my final recommendation is valuable in helping our data science team develop a very accurate model by end of quarter. My report includes all steps of the data science pipeline."
   ]
  },
  {
   "cell_type": "markdown",
   "id": "280a8ada",
   "metadata": {},
   "source": [
    "### Goals"
   ]
  },
  {
   "cell_type": "markdown",
   "id": "7f3ac337",
   "metadata": {},
   "source": [
    "Project goals include. . . "
   ]
  },
  {
   "cell_type": "markdown",
   "id": "f0edd1b8",
   "metadata": {},
   "source": [
    "- Construct an ML Regression model that predicts propery tax assessed values of Single Family Properties using attributes of the properties.\n",
    "- Find the key drivers of property value for single family properties.\n",
    "- Deliver a report that the data science team can read through and replicate, understand what steps were taken, why and what the outcome was.\n",
    "- Provide information about what state and county the data has been pulled from"
   ]
  },
  {
   "cell_type": "markdown",
   "id": "ba2d560d",
   "metadata": {},
   "source": [
    "Keeping in mind that the reasoning behind the goals is to . . "
   ]
  },
  {
   "cell_type": "markdown",
   "id": "3b70ae6f",
   "metadata": {},
   "source": [
    "- Make recommendations on what works or doesn't work in predicting home values."
   ]
  },
  {
   "cell_type": "markdown",
   "id": "e3fde5b3",
   "metadata": {},
   "source": [
    "### Initial Hypothesis"
   ]
  },
  {
   "cell_type": "markdown",
   "id": "92d00511",
   "metadata": {},
   "source": [
    "- Given the same location, older properties have less tax value than newer properties \n",
    "- Given the same location, properties with more bedrooms have a higher tax value than homes with fewer bedrooms. \n",
    "- Given the same location, properties with more bathrooms have a higher tax value than homes with fewer bathrooms. "
   ]
  },
  {
   "cell_type": "markdown",
   "id": "737180cf",
   "metadata": {},
   "source": [
    "### Data Dictionary"
   ]
  },
  {
   "cell_type": "markdown",
   "id": "28b8896d",
   "metadata": {},
   "source": [
    "bedroomcnt = number of bedrooms"
   ]
  },
  {
   "cell_type": "markdown",
   "id": "e44667af",
   "metadata": {},
   "source": [
    "bathroomcnt = number of bathrooms to include half baths"
   ]
  },
  {
   "cell_type": "markdown",
   "id": "a734aa79",
   "metadata": {},
   "source": [
    "calculatedfinishedsquarefeet = square feet of property "
   ]
  },
  {
   "cell_type": "markdown",
   "id": "478e4791",
   "metadata": {},
   "source": [
    "fips(changed to 'location') = numerical designator for county. This column was renamed to 'location' and the numerical identifiers were mapped to 'Orange' for Orange County 'Ventura' for Ventura County and 'LA' for LA county."
   ]
  },
  {
   "cell_type": "markdown",
   "id": "caf7ebcc",
   "metadata": {},
   "source": [
    "taxvaluedollarcnt = property tax value"
   ]
  },
  {
   "cell_type": "markdown",
   "id": "d89c7fc3",
   "metadata": {},
   "source": [
    "yearbuilt = the year the home was built"
   ]
  },
  {
   "cell_type": "markdown",
   "id": "c9357fcb",
   "metadata": {},
   "source": [
    "### Project Planning"
   ]
  },
  {
   "cell_type": "markdown",
   "id": "675bb5e2",
   "metadata": {},
   "source": [
    "This project will complete all steps of the data science pipeline to include:"
   ]
  },
  {
   "cell_type": "markdown",
   "id": "b0962895",
   "metadata": {},
   "source": [
    "Data Acquisition : \n",
    "- Run a query to pull the zillow information from SQL into the jupyter notebook "
   ]
  },
  {
   "cell_type": "markdown",
   "id": "d0b0b5e5",
   "metadata": {},
   "source": [
    "Data Preparation: \n",
    "- Sorted Values in Descending order and dropped (first) row with 2018 transaction \n",
    "- Dropped columns propertylandusedesc, transactiondate (only joined into original data to filter by 'single family homes', and 'transaction date 2017 homes')\n",
    "- Dropped all null values \n",
    "- Dropped outliers using Q1/Q3 plus/minus (1.5 * IQR) for bedroom count, bathroom count, square feet, and tax value dollar count \n",
    "- Converted fips, yearbuilt, taxvaluedollarcnt, calculatedfinishedsquarefeet, and bedroomcnt to datatype integer "
   ]
  },
  {
   "cell_type": "markdown",
   "id": "d41a5735",
   "metadata": {},
   "source": [
    "Exploratory Data Analysis: \n",
    "These questions will be answered through charts/visuals:\n",
    "- Why do some properties have a much higher value than others when they are located so close to each other? \n",
    "- Which has a greater influence on home value: number of bathrooms or number of bedrooms?\n",
    "- Do more bathrooms equate to a higher property value?\n",
    "- Do more bedrooms equate to a higher property value? "
   ]
  },
  {
   "cell_type": "markdown",
   "id": "32bc963c",
   "metadata": {},
   "source": [
    "Statistics: Statistical tests will be performed to test these hypotheses: \n",
    "- Given the same location, older properties have less tax value than newer properties \n",
    "- Given the same location, properties with more bedrooms have a higher tax value than homes with fewer bedrooms. \n",
    "- Given the same location, properties with more bathrooms have a higher tax value than homes with fewer bathrooms. "
   ]
  },
  {
   "cell_type": "markdown",
   "id": "2034874c",
   "metadata": {},
   "source": [
    "Modeling: \n",
    "- Linear Models \n",
    "- NonLinear Models "
   ]
  },
  {
   "cell_type": "markdown",
   "id": "f1229d80",
   "metadata": {},
   "source": [
    "Model Evaluation: \n",
    "- The non linear models were shown to be more accurate than the OLS linear model"
   ]
  },
  {
   "cell_type": "markdown",
   "id": "1e48a835",
   "metadata": {},
   "source": [
    "### Key Findings"
   ]
  },
  {
   "cell_type": "markdown",
   "id": "0f31a45e",
   "metadata": {},
   "source": [
    "- Homes with fewer than 2 bathrooms in Ventura and Orange County have a noticeably different relationship with year built and property tax value when compared with homes that have 2 or more bathrooms.  Homes with fewer than 3 bathrooms in LA have a noticeably different relationship with year built and property tax value when compared with homes that have 3 or more bathrooms. "
   ]
  },
  {
   "cell_type": "markdown",
   "id": "6f15f432",
   "metadata": {},
   "source": [
    "### Recommendations"
   ]
  },
  {
   "cell_type": "markdown",
   "id": "ebeb2c23",
   "metadata": {},
   "source": [
    "- I recommend subsetting the final data analysis by county and then again at fewer than two bathrooms for Orange and Ventura counties and at fewer than 3 bathrooms in LA. "
   ]
  },
  {
   "cell_type": "markdown",
   "id": "0d095914",
   "metadata": {},
   "source": [
    "### How to reproduce this project"
   ]
  },
  {
   "cell_type": "markdown",
   "id": "cf7d9cd5",
   "metadata": {},
   "source": [
    "Download wrangle.py, visuals.py, and Regressionprojectestimatinghomevalue.ipynb. In addition you will need your own env.py to access the codeup database. Then run Regressionprojectestimatinghomevalue.ipynb."
   ]
  }
 ],
 "metadata": {
  "kernelspec": {
   "display_name": "Python 3 (ipykernel)",
   "language": "python",
   "name": "python3"
  },
  "language_info": {
   "codemirror_mode": {
    "name": "ipython",
    "version": 3
   },
   "file_extension": ".py",
   "mimetype": "text/x-python",
   "name": "python",
   "nbconvert_exporter": "python",
   "pygments_lexer": "ipython3",
   "version": "3.9.7"
  }
 },
 "nbformat": 4,
 "nbformat_minor": 5
}
