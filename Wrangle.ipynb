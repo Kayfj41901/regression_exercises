{
 "cells": [
  {
   "cell_type": "code",
   "execution_count": 246,
   "id": "2f16939f",
   "metadata": {},
   "outputs": [],
   "source": [
    "import warnings\n",
    "warnings.filterwarnings(\"ignore\")\n",
    "\n",
    "import pandas as pd\n",
    "import matplotlib.pyplot as plt\n",
    "import seaborn as sns\n",
    "import numpy as np\n",
    "import env\n",
    "import wrangle\n",
    "import scipy.stats\n"
   ]
  },
  {
   "cell_type": "markdown",
   "id": "529da093",
   "metadata": {},
   "source": [
    "### Acquire Data"
   ]
  },
  {
   "cell_type": "code",
   "execution_count": 299,
   "id": "00df5ffe",
   "metadata": {},
   "outputs": [],
   "source": [
    "def get_connection(db, user=env.user, host=env.host, password=env.password):\n",
    "    return f'mysql+pymysql://{user}:{password}@{host}/{db}'\n"
   ]
  },
  {
   "cell_type": "code",
   "execution_count": 300,
   "id": "4b475f3c",
   "metadata": {},
   "outputs": [
    {
     "data": {
      "text/html": [
       "<div>\n",
       "<style scoped>\n",
       "    .dataframe tbody tr th:only-of-type {\n",
       "        vertical-align: middle;\n",
       "    }\n",
       "\n",
       "    .dataframe tbody tr th {\n",
       "        vertical-align: top;\n",
       "    }\n",
       "\n",
       "    .dataframe thead th {\n",
       "        text-align: right;\n",
       "    }\n",
       "</style>\n",
       "<table border=\"1\" class=\"dataframe\">\n",
       "  <thead>\n",
       "    <tr style=\"text-align: right;\">\n",
       "      <th></th>\n",
       "      <th>bedroomcnt</th>\n",
       "      <th>bathroomcnt</th>\n",
       "      <th>calculatedfinishedsquarefeet</th>\n",
       "      <th>propertylandusedesc</th>\n",
       "      <th>taxvaluedollarcnt</th>\n",
       "      <th>yearbuilt</th>\n",
       "      <th>taxamount</th>\n",
       "      <th>fips</th>\n",
       "      <th>transactiondate</th>\n",
       "    </tr>\n",
       "  </thead>\n",
       "  <tbody>\n",
       "    <tr>\n",
       "      <th>0</th>\n",
       "      <td>4.0</td>\n",
       "      <td>3.5</td>\n",
       "      <td>3100.0</td>\n",
       "      <td>Single Family Residential</td>\n",
       "      <td>1023282.0</td>\n",
       "      <td>1998.0</td>\n",
       "      <td>11013.72</td>\n",
       "      <td>6059.0</td>\n",
       "      <td>2017-01-01</td>\n",
       "    </tr>\n",
       "    <tr>\n",
       "      <th>1</th>\n",
       "      <td>2.0</td>\n",
       "      <td>1.0</td>\n",
       "      <td>1465.0</td>\n",
       "      <td>Single Family Residential</td>\n",
       "      <td>464000.0</td>\n",
       "      <td>1967.0</td>\n",
       "      <td>5672.48</td>\n",
       "      <td>6111.0</td>\n",
       "      <td>2017-01-01</td>\n",
       "    </tr>\n",
       "    <tr>\n",
       "      <th>2</th>\n",
       "      <td>3.0</td>\n",
       "      <td>2.0</td>\n",
       "      <td>1243.0</td>\n",
       "      <td>Single Family Residential</td>\n",
       "      <td>564778.0</td>\n",
       "      <td>1962.0</td>\n",
       "      <td>6488.30</td>\n",
       "      <td>6059.0</td>\n",
       "      <td>2017-01-01</td>\n",
       "    </tr>\n",
       "    <tr>\n",
       "      <th>3</th>\n",
       "      <td>4.0</td>\n",
       "      <td>3.0</td>\n",
       "      <td>2376.0</td>\n",
       "      <td>Single Family Residential</td>\n",
       "      <td>145143.0</td>\n",
       "      <td>1970.0</td>\n",
       "      <td>1777.51</td>\n",
       "      <td>6037.0</td>\n",
       "      <td>2017-01-01</td>\n",
       "    </tr>\n",
       "    <tr>\n",
       "      <th>4</th>\n",
       "      <td>4.0</td>\n",
       "      <td>3.0</td>\n",
       "      <td>2962.0</td>\n",
       "      <td>Single Family Residential</td>\n",
       "      <td>773303.0</td>\n",
       "      <td>1950.0</td>\n",
       "      <td>9516.26</td>\n",
       "      <td>6037.0</td>\n",
       "      <td>2017-01-01</td>\n",
       "    </tr>\n",
       "  </tbody>\n",
       "</table>\n",
       "</div>"
      ],
      "text/plain": [
       "   bedroomcnt  bathroomcnt  calculatedfinishedsquarefeet  \\\n",
       "0         4.0          3.5                        3100.0   \n",
       "1         2.0          1.0                        1465.0   \n",
       "2         3.0          2.0                        1243.0   \n",
       "3         4.0          3.0                        2376.0   \n",
       "4         4.0          3.0                        2962.0   \n",
       "\n",
       "         propertylandusedesc  taxvaluedollarcnt  yearbuilt  taxamount    fips  \\\n",
       "0  Single Family Residential          1023282.0     1998.0   11013.72  6059.0   \n",
       "1  Single Family Residential           464000.0     1967.0    5672.48  6111.0   \n",
       "2  Single Family Residential           564778.0     1962.0    6488.30  6059.0   \n",
       "3  Single Family Residential           145143.0     1970.0    1777.51  6037.0   \n",
       "4  Single Family Residential           773303.0     1950.0    9516.26  6037.0   \n",
       "\n",
       "  transactiondate  \n",
       "0      2017-01-01  \n",
       "1      2017-01-01  \n",
       "2      2017-01-01  \n",
       "3      2017-01-01  \n",
       "4      2017-01-01  "
      ]
     },
     "execution_count": 300,
     "metadata": {},
     "output_type": "execute_result"
    }
   ],
   "source": [
    "query = '''SELECT bedroomcnt, bathroomcnt, calculatedfinishedsquarefeet, propertylandusedesc, taxvaluedollarcnt, yearbuilt, fips, transactiondate \n",
    "           FROM zillow.propertylandusetype \n",
    "           RIGHT JOIN zillow.properties_2017 \n",
    "             ON propertylandusetype.propertylandusetypeid = properties_2017.propertylandusetypeid\n",
    "           JOIN zillow.predictions_2017 \n",
    "             ON properties_2017.parcelid = predictions_2017.parcelid\n",
    "           WHERE propertylandusedesc IN (\"Single Family Residential\", \"Inferred Single Family Residential\");\n",
    "         ''' \n",
    "df = pd.read_sql(query, get_connection('zillow'))\n",
    "\n",
    "df.head()\n",
    "    "
   ]
  },
  {
   "cell_type": "code",
   "execution_count": 301,
   "id": "fe8889ce",
   "metadata": {},
   "outputs": [
    {
     "data": {
      "text/plain": [
       "(52442, 9)"
      ]
     },
     "execution_count": 301,
     "metadata": {},
     "output_type": "execute_result"
    }
   ],
   "source": [
    "df.shape"
   ]
  },
  {
   "cell_type": "code",
   "execution_count": 302,
   "id": "2d02efc8",
   "metadata": {},
   "outputs": [],
   "source": [
    "#sort values by transaction date to see if there are a small number if dates outside of 2017, there is only one \n",
    "df = df.sort_values(by='transactiondate', ascending=False)"
   ]
  },
  {
   "cell_type": "code",
   "execution_count": 303,
   "id": "55a03ba6",
   "metadata": {},
   "outputs": [],
   "source": [
    "#drop the first row, the only 2018 column\n",
    "df.drop(index=df.index[0], axis=0, inplace=True)"
   ]
  },
  {
   "cell_type": "code",
   "execution_count": 304,
   "id": "11bcc436",
   "metadata": {},
   "outputs": [],
   "source": [
    "#Because propertylandusedesc was only imported for the purpose of filtering, it will be dropped \n",
    "df = df.drop(columns=['propertylandusedesc', 'transactiondate'])"
   ]
  },
  {
   "cell_type": "code",
   "execution_count": 305,
   "id": "3f4b8e34",
   "metadata": {},
   "outputs": [
    {
     "data": {
      "text/html": [
       "<div>\n",
       "<style scoped>\n",
       "    .dataframe tbody tr th:only-of-type {\n",
       "        vertical-align: middle;\n",
       "    }\n",
       "\n",
       "    .dataframe tbody tr th {\n",
       "        vertical-align: top;\n",
       "    }\n",
       "\n",
       "    .dataframe thead th {\n",
       "        text-align: right;\n",
       "    }\n",
       "</style>\n",
       "<table border=\"1\" class=\"dataframe\">\n",
       "  <thead>\n",
       "    <tr style=\"text-align: right;\">\n",
       "      <th></th>\n",
       "      <th>bedroomcnt</th>\n",
       "      <th>bathroomcnt</th>\n",
       "      <th>calculatedfinishedsquarefeet</th>\n",
       "      <th>taxvaluedollarcnt</th>\n",
       "      <th>yearbuilt</th>\n",
       "      <th>taxamount</th>\n",
       "      <th>fips</th>\n",
       "    </tr>\n",
       "  </thead>\n",
       "  <tbody>\n",
       "    <tr>\n",
       "      <th>52440</th>\n",
       "      <td>3.0</td>\n",
       "      <td>2.0</td>\n",
       "      <td>1762.0</td>\n",
       "      <td>522000.0</td>\n",
       "      <td>1955.0</td>\n",
       "      <td>6317.15</td>\n",
       "      <td>6037.0</td>\n",
       "    </tr>\n",
       "    <tr>\n",
       "      <th>52439</th>\n",
       "      <td>3.0</td>\n",
       "      <td>1.0</td>\n",
       "      <td>1032.0</td>\n",
       "      <td>49546.0</td>\n",
       "      <td>1954.0</td>\n",
       "      <td>876.43</td>\n",
       "      <td>6037.0</td>\n",
       "    </tr>\n",
       "    <tr>\n",
       "      <th>52438</th>\n",
       "      <td>4.0</td>\n",
       "      <td>2.0</td>\n",
       "      <td>1612.0</td>\n",
       "      <td>67205.0</td>\n",
       "      <td>1964.0</td>\n",
       "      <td>1107.48</td>\n",
       "      <td>6111.0</td>\n",
       "    </tr>\n",
       "    <tr>\n",
       "      <th>52437</th>\n",
       "      <td>2.0</td>\n",
       "      <td>2.0</td>\n",
       "      <td>1286.0</td>\n",
       "      <td>354621.0</td>\n",
       "      <td>1940.0</td>\n",
       "      <td>4478.43</td>\n",
       "      <td>6037.0</td>\n",
       "    </tr>\n",
       "    <tr>\n",
       "      <th>52311</th>\n",
       "      <td>4.0</td>\n",
       "      <td>4.0</td>\n",
       "      <td>2440.0</td>\n",
       "      <td>1550000.0</td>\n",
       "      <td>1937.0</td>\n",
       "      <td>18655.00</td>\n",
       "      <td>6037.0</td>\n",
       "    </tr>\n",
       "  </tbody>\n",
       "</table>\n",
       "</div>"
      ],
      "text/plain": [
       "       bedroomcnt  bathroomcnt  calculatedfinishedsquarefeet  \\\n",
       "52440         3.0          2.0                        1762.0   \n",
       "52439         3.0          1.0                        1032.0   \n",
       "52438         4.0          2.0                        1612.0   \n",
       "52437         2.0          2.0                        1286.0   \n",
       "52311         4.0          4.0                        2440.0   \n",
       "\n",
       "       taxvaluedollarcnt  yearbuilt  taxamount    fips  \n",
       "52440           522000.0     1955.0    6317.15  6037.0  \n",
       "52439            49546.0     1954.0     876.43  6037.0  \n",
       "52438            67205.0     1964.0    1107.48  6111.0  \n",
       "52437           354621.0     1940.0    4478.43  6037.0  \n",
       "52311          1550000.0     1937.0   18655.00  6037.0  "
      ]
     },
     "execution_count": 305,
     "metadata": {},
     "output_type": "execute_result"
    }
   ],
   "source": [
    "df.head()"
   ]
  },
  {
   "cell_type": "code",
   "execution_count": 306,
   "id": "24c16a02",
   "metadata": {},
   "outputs": [
    {
     "data": {
      "text/plain": [
       "(52441, 7)"
      ]
     },
     "execution_count": 306,
     "metadata": {},
     "output_type": "execute_result"
    }
   ],
   "source": [
    "df.shape"
   ]
  },
  {
   "cell_type": "code",
   "execution_count": 307,
   "id": "7c3725bf",
   "metadata": {},
   "outputs": [
    {
     "data": {
      "text/plain": [
       "bedroomcnt                        0\n",
       "bathroomcnt                       0\n",
       "calculatedfinishedsquarefeet     82\n",
       "taxvaluedollarcnt                 1\n",
       "yearbuilt                       116\n",
       "taxamount                         4\n",
       "fips                              0\n",
       "dtype: int64"
      ]
     },
     "execution_count": 307,
     "metadata": {},
     "output_type": "execute_result"
    }
   ],
   "source": [
    "#number of null values \n",
    "df.isnull().sum()"
   ]
  },
  {
   "cell_type": "code",
   "execution_count": 308,
   "id": "8c95f84f",
   "metadata": {},
   "outputs": [
    {
     "data": {
      "text/plain": [
       "(52315, 7)"
      ]
     },
     "execution_count": 308,
     "metadata": {},
     "output_type": "execute_result"
    }
   ],
   "source": [
    "df = df.dropna()\n",
    "df.shape"
   ]
  },
  {
   "cell_type": "code",
   "execution_count": 309,
   "id": "272331ee",
   "metadata": {},
   "outputs": [
    {
     "data": {
      "text/plain": [
       "0.9975972998226579"
      ]
     },
     "execution_count": 309,
     "metadata": {},
     "output_type": "execute_result"
    }
   ],
   "source": [
    "#retained 99.7% data\n",
    "52315/52441"
   ]
  },
  {
   "cell_type": "code",
   "execution_count": 310,
   "id": "eba3441a",
   "metadata": {},
   "outputs": [
    {
     "data": {
      "text/plain": [
       "Index(['bedroomcnt', 'bathroomcnt', 'calculatedfinishedsquarefeet',\n",
       "       'taxvaluedollarcnt', 'yearbuilt', 'taxamount', 'fips'],\n",
       "      dtype='object')"
      ]
     },
     "execution_count": 310,
     "metadata": {},
     "output_type": "execute_result"
    }
   ],
   "source": [
    "df.columns"
   ]
  },
  {
   "cell_type": "code",
   "execution_count": 311,
   "id": "bc6d31e6",
   "metadata": {},
   "outputs": [
    {
     "data": {
      "text/plain": [
       "(52315, 7)"
      ]
     },
     "execution_count": 311,
     "metadata": {},
     "output_type": "execute_result"
    }
   ],
   "source": [
    "df.shape"
   ]
  },
  {
   "cell_type": "markdown",
   "id": "6860e116",
   "metadata": {},
   "source": [
    "### Bedroom Outliers "
   ]
  },
  {
   "cell_type": "code",
   "execution_count": 260,
   "id": "ec2182a4",
   "metadata": {},
   "outputs": [
    {
     "data": {
      "text/plain": [
       "3.0"
      ]
     },
     "execution_count": 260,
     "metadata": {},
     "output_type": "execute_result"
    }
   ],
   "source": [
    "df.bedroomcnt.quantile(0.25)"
   ]
  },
  {
   "cell_type": "code",
   "execution_count": 261,
   "id": "96c55542",
   "metadata": {},
   "outputs": [
    {
     "data": {
      "text/plain": [
       "4.0"
      ]
     },
     "execution_count": 261,
     "metadata": {},
     "output_type": "execute_result"
    }
   ],
   "source": [
    "df.bedroomcnt.quantile(0.75)"
   ]
  },
  {
   "cell_type": "code",
   "execution_count": 262,
   "id": "dcb3bedf",
   "metadata": {},
   "outputs": [],
   "source": [
    "IQR = 1"
   ]
  },
  {
   "cell_type": "code",
   "execution_count": 263,
   "id": "126ebc72",
   "metadata": {},
   "outputs": [
    {
     "data": {
      "text/plain": [
       "1.5"
      ]
     },
     "execution_count": 263,
     "metadata": {},
     "output_type": "execute_result"
    }
   ],
   "source": [
    "#Anything below 1.5 bedrooms is an outlier \n",
    "3 - (1.5* 1)"
   ]
  },
  {
   "cell_type": "code",
   "execution_count": 264,
   "id": "7683aeb3",
   "metadata": {},
   "outputs": [
    {
     "data": {
      "text/plain": [
       "5.5"
      ]
     },
     "execution_count": 264,
     "metadata": {},
     "output_type": "execute_result"
    }
   ],
   "source": [
    "#Anything above 5.5 bedrooms is an outlier \n",
    "4 + (1.5*1)"
   ]
  },
  {
   "cell_type": "code",
   "execution_count": 265,
   "id": "229531cc",
   "metadata": {},
   "outputs": [
    {
     "data": {
      "text/html": [
       "<div>\n",
       "<style scoped>\n",
       "    .dataframe tbody tr th:only-of-type {\n",
       "        vertical-align: middle;\n",
       "    }\n",
       "\n",
       "    .dataframe tbody tr th {\n",
       "        vertical-align: top;\n",
       "    }\n",
       "\n",
       "    .dataframe thead th {\n",
       "        text-align: right;\n",
       "    }\n",
       "</style>\n",
       "<table border=\"1\" class=\"dataframe\">\n",
       "  <thead>\n",
       "    <tr style=\"text-align: right;\">\n",
       "      <th></th>\n",
       "      <th>bedroomcnt</th>\n",
       "      <th>bathroomcnt</th>\n",
       "      <th>calculatedfinishedsquarefeet</th>\n",
       "      <th>taxvaluedollarcnt</th>\n",
       "      <th>yearbuilt</th>\n",
       "      <th>taxamount</th>\n",
       "      <th>fips</th>\n",
       "    </tr>\n",
       "  </thead>\n",
       "  <tbody>\n",
       "    <tr>\n",
       "      <th>52315</th>\n",
       "      <td>6.0</td>\n",
       "      <td>2.0</td>\n",
       "      <td>2475.0</td>\n",
       "      <td>306636.0</td>\n",
       "      <td>1912.0</td>\n",
       "      <td>3874.20</td>\n",
       "      <td>6037.0</td>\n",
       "    </tr>\n",
       "    <tr>\n",
       "      <th>52200</th>\n",
       "      <td>6.0</td>\n",
       "      <td>4.0</td>\n",
       "      <td>3686.0</td>\n",
       "      <td>429334.0</td>\n",
       "      <td>1958.0</td>\n",
       "      <td>5267.71</td>\n",
       "      <td>6037.0</td>\n",
       "    </tr>\n",
       "    <tr>\n",
       "      <th>51963</th>\n",
       "      <td>6.0</td>\n",
       "      <td>4.0</td>\n",
       "      <td>2810.0</td>\n",
       "      <td>405754.0</td>\n",
       "      <td>1974.0</td>\n",
       "      <td>4817.40</td>\n",
       "      <td>6059.0</td>\n",
       "    </tr>\n",
       "    <tr>\n",
       "      <th>51904</th>\n",
       "      <td>7.0</td>\n",
       "      <td>4.0</td>\n",
       "      <td>4600.0</td>\n",
       "      <td>824050.0</td>\n",
       "      <td>1957.0</td>\n",
       "      <td>10126.41</td>\n",
       "      <td>6037.0</td>\n",
       "    </tr>\n",
       "    <tr>\n",
       "      <th>52040</th>\n",
       "      <td>6.0</td>\n",
       "      <td>4.5</td>\n",
       "      <td>4534.0</td>\n",
       "      <td>531025.0</td>\n",
       "      <td>1965.0</td>\n",
       "      <td>6400.60</td>\n",
       "      <td>6059.0</td>\n",
       "    </tr>\n",
       "    <tr>\n",
       "      <th>...</th>\n",
       "      <td>...</td>\n",
       "      <td>...</td>\n",
       "      <td>...</td>\n",
       "      <td>...</td>\n",
       "      <td>...</td>\n",
       "      <td>...</td>\n",
       "      <td>...</td>\n",
       "    </tr>\n",
       "    <tr>\n",
       "      <th>144</th>\n",
       "      <td>6.0</td>\n",
       "      <td>4.0</td>\n",
       "      <td>3733.0</td>\n",
       "      <td>799634.0</td>\n",
       "      <td>1999.0</td>\n",
       "      <td>10794.22</td>\n",
       "      <td>6059.0</td>\n",
       "    </tr>\n",
       "    <tr>\n",
       "      <th>170</th>\n",
       "      <td>6.0</td>\n",
       "      <td>6.0</td>\n",
       "      <td>3659.0</td>\n",
       "      <td>2010195.0</td>\n",
       "      <td>1950.0</td>\n",
       "      <td>22708.18</td>\n",
       "      <td>6037.0</td>\n",
       "    </tr>\n",
       "    <tr>\n",
       "      <th>226</th>\n",
       "      <td>6.0</td>\n",
       "      <td>5.0</td>\n",
       "      <td>6249.0</td>\n",
       "      <td>3681324.0</td>\n",
       "      <td>1924.0</td>\n",
       "      <td>44772.63</td>\n",
       "      <td>6037.0</td>\n",
       "    </tr>\n",
       "    <tr>\n",
       "      <th>174</th>\n",
       "      <td>6.0</td>\n",
       "      <td>3.0</td>\n",
       "      <td>1875.0</td>\n",
       "      <td>136310.0</td>\n",
       "      <td>1958.0</td>\n",
       "      <td>1847.28</td>\n",
       "      <td>6059.0</td>\n",
       "    </tr>\n",
       "    <tr>\n",
       "      <th>16</th>\n",
       "      <td>6.0</td>\n",
       "      <td>4.5</td>\n",
       "      <td>3870.0</td>\n",
       "      <td>2040000.0</td>\n",
       "      <td>1972.0</td>\n",
       "      <td>21758.26</td>\n",
       "      <td>6059.0</td>\n",
       "    </tr>\n",
       "  </tbody>\n",
       "</table>\n",
       "<p>778 rows × 7 columns</p>\n",
       "</div>"
      ],
      "text/plain": [
       "       bedroomcnt  bathroomcnt  calculatedfinishedsquarefeet  \\\n",
       "52315         6.0          2.0                        2475.0   \n",
       "52200         6.0          4.0                        3686.0   \n",
       "51963         6.0          4.0                        2810.0   \n",
       "51904         7.0          4.0                        4600.0   \n",
       "52040         6.0          4.5                        4534.0   \n",
       "...           ...          ...                           ...   \n",
       "144           6.0          4.0                        3733.0   \n",
       "170           6.0          6.0                        3659.0   \n",
       "226           6.0          5.0                        6249.0   \n",
       "174           6.0          3.0                        1875.0   \n",
       "16            6.0          4.5                        3870.0   \n",
       "\n",
       "       taxvaluedollarcnt  yearbuilt  taxamount    fips  \n",
       "52315           306636.0     1912.0    3874.20  6037.0  \n",
       "52200           429334.0     1958.0    5267.71  6037.0  \n",
       "51963           405754.0     1974.0    4817.40  6059.0  \n",
       "51904           824050.0     1957.0   10126.41  6037.0  \n",
       "52040           531025.0     1965.0    6400.60  6059.0  \n",
       "...                  ...        ...        ...     ...  \n",
       "144             799634.0     1999.0   10794.22  6059.0  \n",
       "170            2010195.0     1950.0   22708.18  6037.0  \n",
       "226            3681324.0     1924.0   44772.63  6037.0  \n",
       "174             136310.0     1958.0    1847.28  6059.0  \n",
       "16             2040000.0     1972.0   21758.26  6059.0  \n",
       "\n",
       "[778 rows x 7 columns]"
      ]
     },
     "execution_count": 265,
     "metadata": {},
     "output_type": "execute_result"
    }
   ],
   "source": [
    "upper_outliers = df.bedroomcnt > 5.5\n",
    "df[upper_outliers]"
   ]
  },
  {
   "cell_type": "code",
   "execution_count": 266,
   "id": "eb98dc29",
   "metadata": {},
   "outputs": [
    {
     "data": {
      "text/plain": [
       "778"
      ]
     },
     "execution_count": 266,
     "metadata": {},
     "output_type": "execute_result"
    }
   ],
   "source": [
    "upper_outliers.sum()"
   ]
  },
  {
   "cell_type": "code",
   "execution_count": 267,
   "id": "48e01c3d",
   "metadata": {},
   "outputs": [
    {
     "data": {
      "text/html": [
       "<div>\n",
       "<style scoped>\n",
       "    .dataframe tbody tr th:only-of-type {\n",
       "        vertical-align: middle;\n",
       "    }\n",
       "\n",
       "    .dataframe tbody tr th {\n",
       "        vertical-align: top;\n",
       "    }\n",
       "\n",
       "    .dataframe thead th {\n",
       "        text-align: right;\n",
       "    }\n",
       "</style>\n",
       "<table border=\"1\" class=\"dataframe\">\n",
       "  <thead>\n",
       "    <tr style=\"text-align: right;\">\n",
       "      <th></th>\n",
       "      <th>bedroomcnt</th>\n",
       "      <th>bathroomcnt</th>\n",
       "      <th>calculatedfinishedsquarefeet</th>\n",
       "      <th>taxvaluedollarcnt</th>\n",
       "      <th>yearbuilt</th>\n",
       "      <th>taxamount</th>\n",
       "      <th>fips</th>\n",
       "    </tr>\n",
       "  </thead>\n",
       "  <tbody>\n",
       "    <tr>\n",
       "      <th>52432</th>\n",
       "      <td>1.0</td>\n",
       "      <td>1.0</td>\n",
       "      <td>624.0</td>\n",
       "      <td>81706.0</td>\n",
       "      <td>1944.0</td>\n",
       "      <td>1131.24</td>\n",
       "      <td>6037.0</td>\n",
       "    </tr>\n",
       "    <tr>\n",
       "      <th>52388</th>\n",
       "      <td>0.0</td>\n",
       "      <td>1.0</td>\n",
       "      <td>1020.0</td>\n",
       "      <td>104000.0</td>\n",
       "      <td>1930.0</td>\n",
       "      <td>2708.57</td>\n",
       "      <td>6037.0</td>\n",
       "    </tr>\n",
       "    <tr>\n",
       "      <th>52163</th>\n",
       "      <td>0.0</td>\n",
       "      <td>0.0</td>\n",
       "      <td>2307.0</td>\n",
       "      <td>499000.0</td>\n",
       "      <td>1948.0</td>\n",
       "      <td>6315.67</td>\n",
       "      <td>6037.0</td>\n",
       "    </tr>\n",
       "    <tr>\n",
       "      <th>52175</th>\n",
       "      <td>0.0</td>\n",
       "      <td>1.0</td>\n",
       "      <td>440.0</td>\n",
       "      <td>1374602.0</td>\n",
       "      <td>1947.0</td>\n",
       "      <td>16591.34</td>\n",
       "      <td>6037.0</td>\n",
       "    </tr>\n",
       "    <tr>\n",
       "      <th>52255</th>\n",
       "      <td>1.0</td>\n",
       "      <td>1.0</td>\n",
       "      <td>800.0</td>\n",
       "      <td>913725.0</td>\n",
       "      <td>1932.0</td>\n",
       "      <td>11084.69</td>\n",
       "      <td>6037.0</td>\n",
       "    </tr>\n",
       "    <tr>\n",
       "      <th>...</th>\n",
       "      <td>...</td>\n",
       "      <td>...</td>\n",
       "      <td>...</td>\n",
       "      <td>...</td>\n",
       "      <td>...</td>\n",
       "      <td>...</td>\n",
       "      <td>...</td>\n",
       "    </tr>\n",
       "    <tr>\n",
       "      <th>287</th>\n",
       "      <td>1.0</td>\n",
       "      <td>1.0</td>\n",
       "      <td>784.0</td>\n",
       "      <td>188067.0</td>\n",
       "      <td>1952.0</td>\n",
       "      <td>2357.43</td>\n",
       "      <td>6037.0</td>\n",
       "    </tr>\n",
       "    <tr>\n",
       "      <th>466</th>\n",
       "      <td>1.0</td>\n",
       "      <td>1.0</td>\n",
       "      <td>520.0</td>\n",
       "      <td>32640.0</td>\n",
       "      <td>1922.0</td>\n",
       "      <td>509.53</td>\n",
       "      <td>6037.0</td>\n",
       "    </tr>\n",
       "    <tr>\n",
       "      <th>88</th>\n",
       "      <td>1.0</td>\n",
       "      <td>1.0</td>\n",
       "      <td>455.0</td>\n",
       "      <td>86152.0</td>\n",
       "      <td>1922.0</td>\n",
       "      <td>1305.58</td>\n",
       "      <td>6059.0</td>\n",
       "    </tr>\n",
       "    <tr>\n",
       "      <th>227</th>\n",
       "      <td>1.0</td>\n",
       "      <td>1.0</td>\n",
       "      <td>528.0</td>\n",
       "      <td>342000.0</td>\n",
       "      <td>1929.0</td>\n",
       "      <td>4144.87</td>\n",
       "      <td>6037.0</td>\n",
       "    </tr>\n",
       "    <tr>\n",
       "      <th>210</th>\n",
       "      <td>1.0</td>\n",
       "      <td>3.0</td>\n",
       "      <td>1619.0</td>\n",
       "      <td>1664376.0</td>\n",
       "      <td>1949.0</td>\n",
       "      <td>19508.30</td>\n",
       "      <td>6037.0</td>\n",
       "    </tr>\n",
       "  </tbody>\n",
       "</table>\n",
       "<p>662 rows × 7 columns</p>\n",
       "</div>"
      ],
      "text/plain": [
       "       bedroomcnt  bathroomcnt  calculatedfinishedsquarefeet  \\\n",
       "52432         1.0          1.0                         624.0   \n",
       "52388         0.0          1.0                        1020.0   \n",
       "52163         0.0          0.0                        2307.0   \n",
       "52175         0.0          1.0                         440.0   \n",
       "52255         1.0          1.0                         800.0   \n",
       "...           ...          ...                           ...   \n",
       "287           1.0          1.0                         784.0   \n",
       "466           1.0          1.0                         520.0   \n",
       "88            1.0          1.0                         455.0   \n",
       "227           1.0          1.0                         528.0   \n",
       "210           1.0          3.0                        1619.0   \n",
       "\n",
       "       taxvaluedollarcnt  yearbuilt  taxamount    fips  \n",
       "52432            81706.0     1944.0    1131.24  6037.0  \n",
       "52388           104000.0     1930.0    2708.57  6037.0  \n",
       "52163           499000.0     1948.0    6315.67  6037.0  \n",
       "52175          1374602.0     1947.0   16591.34  6037.0  \n",
       "52255           913725.0     1932.0   11084.69  6037.0  \n",
       "...                  ...        ...        ...     ...  \n",
       "287             188067.0     1952.0    2357.43  6037.0  \n",
       "466              32640.0     1922.0     509.53  6037.0  \n",
       "88               86152.0     1922.0    1305.58  6059.0  \n",
       "227             342000.0     1929.0    4144.87  6037.0  \n",
       "210            1664376.0     1949.0   19508.30  6037.0  \n",
       "\n",
       "[662 rows x 7 columns]"
      ]
     },
     "execution_count": 267,
     "metadata": {},
     "output_type": "execute_result"
    }
   ],
   "source": [
    "lower_outliers = df.bedroomcnt < 1.5\n",
    "df[lower_outliers]"
   ]
  },
  {
   "cell_type": "code",
   "execution_count": 268,
   "id": "405a1926",
   "metadata": {},
   "outputs": [
    {
     "data": {
      "text/plain": [
       "662"
      ]
     },
     "execution_count": 268,
     "metadata": {},
     "output_type": "execute_result"
    }
   ],
   "source": [
    "lower_outliers.sum()"
   ]
  },
  {
   "cell_type": "code",
   "execution_count": 312,
   "id": "005f1b3c",
   "metadata": {},
   "outputs": [],
   "source": [
    "#Drop Outliers \n",
    "df.drop(df[df['bedroomcnt'] > 5.5].index, inplace = True)"
   ]
  },
  {
   "cell_type": "code",
   "execution_count": 313,
   "id": "c288a666",
   "metadata": {},
   "outputs": [],
   "source": [
    "#Drop Outliers \n",
    "df.drop(df[df['bedroomcnt'] < 1.5].index, inplace = True)"
   ]
  },
  {
   "cell_type": "code",
   "execution_count": 314,
   "id": "b1cd2d75",
   "metadata": {},
   "outputs": [
    {
     "data": {
      "text/plain": [
       "(51480, 7)"
      ]
     },
     "execution_count": 314,
     "metadata": {},
     "output_type": "execute_result"
    }
   ],
   "source": [
    "df.shape"
   ]
  },
  {
   "cell_type": "markdown",
   "id": "b6ff4a2f",
   "metadata": {},
   "source": [
    "### Bathroom Outliers"
   ]
  },
  {
   "cell_type": "code",
   "execution_count": 272,
   "id": "60385cb9",
   "metadata": {},
   "outputs": [
    {
     "data": {
      "text/plain": [
       "2.0"
      ]
     },
     "execution_count": 272,
     "metadata": {},
     "output_type": "execute_result"
    }
   ],
   "source": [
    "df.bathroomcnt.quantile(0.25)"
   ]
  },
  {
   "cell_type": "code",
   "execution_count": 273,
   "id": "f3441feb",
   "metadata": {},
   "outputs": [
    {
     "data": {
      "text/plain": [
       "3.0"
      ]
     },
     "execution_count": 273,
     "metadata": {},
     "output_type": "execute_result"
    }
   ],
   "source": [
    "df.bathroomcnt.quantile(0.75)"
   ]
  },
  {
   "cell_type": "code",
   "execution_count": 274,
   "id": "ed45b888",
   "metadata": {},
   "outputs": [],
   "source": [
    "IQR = 1 "
   ]
  },
  {
   "cell_type": "code",
   "execution_count": 275,
   "id": "e78a47d2",
   "metadata": {},
   "outputs": [
    {
     "data": {
      "text/plain": [
       "0.5"
      ]
     },
     "execution_count": 275,
     "metadata": {},
     "output_type": "execute_result"
    }
   ],
   "source": [
    "#Anything below a half bath is an outlier \n",
    "2 - (1.5 * 1)"
   ]
  },
  {
   "cell_type": "code",
   "execution_count": 276,
   "id": "abdf05e6",
   "metadata": {},
   "outputs": [
    {
     "data": {
      "text/plain": [
       "4.5"
      ]
     },
     "execution_count": 276,
     "metadata": {},
     "output_type": "execute_result"
    }
   ],
   "source": [
    "#Anything above 4.5 bathrooms is an outlier \n",
    "3 + (1.5 * 1)"
   ]
  },
  {
   "cell_type": "code",
   "execution_count": 316,
   "id": "1e784ab3",
   "metadata": {},
   "outputs": [],
   "source": [
    "#drop outliers\n",
    "df.drop(df[df['bathroomcnt'] > 5.5].index, inplace = True)"
   ]
  },
  {
   "cell_type": "code",
   "execution_count": 317,
   "id": "cae565be",
   "metadata": {},
   "outputs": [
    {
     "data": {
      "text/plain": [
       "(51116, 7)"
      ]
     },
     "execution_count": 317,
     "metadata": {},
     "output_type": "execute_result"
    }
   ],
   "source": [
    "df.shape"
   ]
  },
  {
   "cell_type": "markdown",
   "id": "b1cc6029",
   "metadata": {},
   "source": [
    "### Square Feet Outliers "
   ]
  },
  {
   "cell_type": "code",
   "execution_count": 280,
   "id": "3b056d30",
   "metadata": {},
   "outputs": [
    {
     "data": {
      "text/plain": [
       "1260.0"
      ]
     },
     "execution_count": 280,
     "metadata": {},
     "output_type": "execute_result"
    }
   ],
   "source": [
    "df.calculatedfinishedsquarefeet.quantile(0.25)"
   ]
  },
  {
   "cell_type": "code",
   "execution_count": 281,
   "id": "2f286d88",
   "metadata": {},
   "outputs": [
    {
     "data": {
      "text/plain": [
       "2250.0"
      ]
     },
     "execution_count": 281,
     "metadata": {},
     "output_type": "execute_result"
    }
   ],
   "source": [
    "df.calculatedfinishedsquarefeet.quantile(0.75)"
   ]
  },
  {
   "cell_type": "code",
   "execution_count": 282,
   "id": "1c0bccbc",
   "metadata": {},
   "outputs": [
    {
     "data": {
      "text/plain": [
       "1037"
      ]
     },
     "execution_count": 282,
     "metadata": {},
     "output_type": "execute_result"
    }
   ],
   "source": [
    "#IQR \n",
    "2305 - 1268"
   ]
  },
  {
   "cell_type": "code",
   "execution_count": 283,
   "id": "643a2d4e",
   "metadata": {},
   "outputs": [
    {
     "data": {
      "text/plain": [
       "-287.5"
      ]
     },
     "execution_count": 283,
     "metadata": {},
     "output_type": "execute_result"
    }
   ],
   "source": [
    "#There is no such thing as negative square feet, so the lower bound will not be dropped \n",
    "1268 - (1.5 * 1037)"
   ]
  },
  {
   "cell_type": "code",
   "execution_count": 284,
   "id": "33b1a832",
   "metadata": {},
   "outputs": [
    {
     "data": {
      "text/plain": [
       "3860.5"
      ]
     },
     "execution_count": 284,
     "metadata": {},
     "output_type": "execute_result"
    }
   ],
   "source": [
    "#Every property over 3860.5 square feet is an outlier \n",
    "2305 + (1.5 * 1037)"
   ]
  },
  {
   "cell_type": "code",
   "execution_count": 320,
   "id": "e96c0812",
   "metadata": {},
   "outputs": [],
   "source": [
    "df.drop(df[df['calculatedfinishedsquarefeet'] > 3860].index, inplace = True)"
   ]
  },
  {
   "cell_type": "code",
   "execution_count": 321,
   "id": "8eae0b2c",
   "metadata": {},
   "outputs": [
    {
     "data": {
      "text/plain": [
       "(49503, 7)"
      ]
     },
     "execution_count": 321,
     "metadata": {},
     "output_type": "execute_result"
    }
   ],
   "source": [
    "df.shape"
   ]
  },
  {
   "cell_type": "markdown",
   "id": "d5a810f5",
   "metadata": {},
   "source": [
    "### Tax Value Outliers "
   ]
  },
  {
   "cell_type": "code",
   "execution_count": 287,
   "id": "88d92111",
   "metadata": {},
   "outputs": [
    {
     "data": {
      "text/plain": [
       "185003.5"
      ]
     },
     "execution_count": 287,
     "metadata": {},
     "output_type": "execute_result"
    }
   ],
   "source": [
    "df.taxvaluedollarcnt.quantile(0.25)"
   ]
  },
  {
   "cell_type": "code",
   "execution_count": 288,
   "id": "10bde11f",
   "metadata": {},
   "outputs": [
    {
     "data": {
      "text/plain": [
       "574294.0"
      ]
     },
     "execution_count": 288,
     "metadata": {},
     "output_type": "execute_result"
    }
   ],
   "source": [
    "df.taxvaluedollarcnt.quantile(0.75)"
   ]
  },
  {
   "cell_type": "code",
   "execution_count": 289,
   "id": "91ba0cda",
   "metadata": {},
   "outputs": [
    {
     "data": {
      "text/plain": [
       "424916"
      ]
     },
     "execution_count": 289,
     "metadata": {},
     "output_type": "execute_result"
    }
   ],
   "source": [
    "#IQR \n",
    "618617 - 193701"
   ]
  },
  {
   "cell_type": "code",
   "execution_count": 188,
   "id": "d18a27fe",
   "metadata": {},
   "outputs": [
    {
     "data": {
      "text/plain": [
       "-636106.0"
      ]
     },
     "execution_count": 188,
     "metadata": {},
     "output_type": "execute_result"
    }
   ],
   "source": [
    "#No negative value homes\n",
    "1268 - (1.5 * 424916)"
   ]
  },
  {
   "cell_type": "code",
   "execution_count": 336,
   "id": "54d2ff62",
   "metadata": {},
   "outputs": [
    {
     "data": {
      "text/plain": [
       "639679.0"
      ]
     },
     "execution_count": 336,
     "metadata": {},
     "output_type": "execute_result"
    }
   ],
   "source": [
    "#Homes above 639,670 are outliers \n",
    "2305 + (1.5 * 424916)"
   ]
  },
  {
   "cell_type": "code",
   "execution_count": 322,
   "id": "8b1b127b",
   "metadata": {},
   "outputs": [],
   "source": [
    "df.drop(df[df['taxvaluedollarcnt'] > 639679].index, inplace = True)"
   ]
  },
  {
   "cell_type": "code",
   "execution_count": 323,
   "id": "b981a600",
   "metadata": {},
   "outputs": [
    {
     "data": {
      "text/plain": [
       "(44273, 7)"
      ]
     },
     "execution_count": 323,
     "metadata": {},
     "output_type": "execute_result"
    }
   ],
   "source": [
    "df.shape"
   ]
  },
  {
   "cell_type": "code",
   "execution_count": 333,
   "id": "cb524281",
   "metadata": {},
   "outputs": [
    {
     "data": {
      "text/html": [
       "<div>\n",
       "<style scoped>\n",
       "    .dataframe tbody tr th:only-of-type {\n",
       "        vertical-align: middle;\n",
       "    }\n",
       "\n",
       "    .dataframe tbody tr th {\n",
       "        vertical-align: top;\n",
       "    }\n",
       "\n",
       "    .dataframe thead th {\n",
       "        text-align: right;\n",
       "    }\n",
       "</style>\n",
       "<table border=\"1\" class=\"dataframe\">\n",
       "  <thead>\n",
       "    <tr style=\"text-align: right;\">\n",
       "      <th></th>\n",
       "      <th>bedroomcnt</th>\n",
       "      <th>bathroomcnt</th>\n",
       "      <th>calculatedfinishedsquarefeet</th>\n",
       "      <th>taxvaluedollarcnt</th>\n",
       "      <th>yearbuilt</th>\n",
       "      <th>fips</th>\n",
       "    </tr>\n",
       "  </thead>\n",
       "  <tbody>\n",
       "    <tr>\n",
       "      <th>52440</th>\n",
       "      <td>3</td>\n",
       "      <td>2.0</td>\n",
       "      <td>1762</td>\n",
       "      <td>522000</td>\n",
       "      <td>1955</td>\n",
       "      <td>6037</td>\n",
       "    </tr>\n",
       "    <tr>\n",
       "      <th>52439</th>\n",
       "      <td>3</td>\n",
       "      <td>1.0</td>\n",
       "      <td>1032</td>\n",
       "      <td>49546</td>\n",
       "      <td>1954</td>\n",
       "      <td>6037</td>\n",
       "    </tr>\n",
       "    <tr>\n",
       "      <th>52438</th>\n",
       "      <td>4</td>\n",
       "      <td>2.0</td>\n",
       "      <td>1612</td>\n",
       "      <td>67205</td>\n",
       "      <td>1964</td>\n",
       "      <td>6111</td>\n",
       "    </tr>\n",
       "    <tr>\n",
       "      <th>52437</th>\n",
       "      <td>2</td>\n",
       "      <td>2.0</td>\n",
       "      <td>1286</td>\n",
       "      <td>354621</td>\n",
       "      <td>1940</td>\n",
       "      <td>6037</td>\n",
       "    </tr>\n",
       "    <tr>\n",
       "      <th>52320</th>\n",
       "      <td>3</td>\n",
       "      <td>1.0</td>\n",
       "      <td>1468</td>\n",
       "      <td>523019</td>\n",
       "      <td>1949</td>\n",
       "      <td>6037</td>\n",
       "    </tr>\n",
       "    <tr>\n",
       "      <th>...</th>\n",
       "      <td>...</td>\n",
       "      <td>...</td>\n",
       "      <td>...</td>\n",
       "      <td>...</td>\n",
       "      <td>...</td>\n",
       "      <td>...</td>\n",
       "    </tr>\n",
       "    <tr>\n",
       "      <th>1</th>\n",
       "      <td>2</td>\n",
       "      <td>1.0</td>\n",
       "      <td>1465</td>\n",
       "      <td>464000</td>\n",
       "      <td>1967</td>\n",
       "      <td>6111</td>\n",
       "    </tr>\n",
       "    <tr>\n",
       "      <th>5</th>\n",
       "      <td>2</td>\n",
       "      <td>1.0</td>\n",
       "      <td>738</td>\n",
       "      <td>218552</td>\n",
       "      <td>1922</td>\n",
       "      <td>6037</td>\n",
       "    </tr>\n",
       "    <tr>\n",
       "      <th>4</th>\n",
       "      <td>4</td>\n",
       "      <td>3.0</td>\n",
       "      <td>2962</td>\n",
       "      <td>773303</td>\n",
       "      <td>1950</td>\n",
       "      <td>6037</td>\n",
       "    </tr>\n",
       "    <tr>\n",
       "      <th>3</th>\n",
       "      <td>4</td>\n",
       "      <td>3.0</td>\n",
       "      <td>2376</td>\n",
       "      <td>145143</td>\n",
       "      <td>1970</td>\n",
       "      <td>6037</td>\n",
       "    </tr>\n",
       "    <tr>\n",
       "      <th>2</th>\n",
       "      <td>3</td>\n",
       "      <td>2.0</td>\n",
       "      <td>1243</td>\n",
       "      <td>564778</td>\n",
       "      <td>1962</td>\n",
       "      <td>6059</td>\n",
       "    </tr>\n",
       "  </tbody>\n",
       "</table>\n",
       "<p>44273 rows × 6 columns</p>\n",
       "</div>"
      ],
      "text/plain": [
       "       bedroomcnt  bathroomcnt  calculatedfinishedsquarefeet  \\\n",
       "52440           3          2.0                          1762   \n",
       "52439           3          1.0                          1032   \n",
       "52438           4          2.0                          1612   \n",
       "52437           2          2.0                          1286   \n",
       "52320           3          1.0                          1468   \n",
       "...           ...          ...                           ...   \n",
       "1               2          1.0                          1465   \n",
       "5               2          1.0                           738   \n",
       "4               4          3.0                          2962   \n",
       "3               4          3.0                          2376   \n",
       "2               3          2.0                          1243   \n",
       "\n",
       "       taxvaluedollarcnt  yearbuilt  fips  \n",
       "52440             522000       1955  6037  \n",
       "52439              49546       1954  6037  \n",
       "52438              67205       1964  6111  \n",
       "52437             354621       1940  6037  \n",
       "52320             523019       1949  6037  \n",
       "...                  ...        ...   ...  \n",
       "1                 464000       1967  6111  \n",
       "5                 218552       1922  6037  \n",
       "4                 773303       1950  6037  \n",
       "3                 145143       1970  6037  \n",
       "2                 564778       1962  6059  \n",
       "\n",
       "[44273 rows x 6 columns]"
      ]
     },
     "execution_count": 333,
     "metadata": {},
     "output_type": "execute_result"
    }
   ],
   "source": [
    "#remove column tax amount \n",
    "#using would be cheating because we would not know the tax amount until we knew the tax assessed home value \n",
    "df.drop(columns=['taxamount'])"
   ]
  },
  {
   "cell_type": "code",
   "execution_count": 334,
   "id": "ffbc8d96",
   "metadata": {},
   "outputs": [
    {
     "data": {
      "text/plain": [
       "bedroomcnt                        int64\n",
       "bathroomcnt                     float64\n",
       "calculatedfinishedsquarefeet      int64\n",
       "taxvaluedollarcnt                 int64\n",
       "yearbuilt                         int64\n",
       "taxamount                       float64\n",
       "fips                              int64\n",
       "dtype: object"
      ]
     },
     "execution_count": 334,
     "metadata": {},
     "output_type": "execute_result"
    }
   ],
   "source": [
    "df.dtypes"
   ]
  },
  {
   "cell_type": "code",
   "execution_count": 335,
   "id": "b449a8a8",
   "metadata": {},
   "outputs": [
    {
     "data": {
      "text/plain": [
       "6037    29118\n",
       "6059    11399\n",
       "6111     3756\n",
       "Name: fips, dtype: int64"
      ]
     },
     "execution_count": 335,
     "metadata": {},
     "output_type": "execute_result"
    }
   ],
   "source": [
    "df.fips.value_counts()"
   ]
  },
  {
   "cell_type": "markdown",
   "id": "23ada3ac",
   "metadata": {},
   "source": [
    "### Visuals"
   ]
  },
  {
   "cell_type": "code",
   "execution_count": 324,
   "id": "5ea1ebd0",
   "metadata": {},
   "outputs": [
    {
     "data": {
      "text/plain": [
       "<AxesSubplot:xlabel='bedroomcnt'>"
      ]
     },
     "execution_count": 324,
     "metadata": {},
     "output_type": "execute_result"
    },
    {
     "data": {
      "image/png": "[encoded data removed]",
      "text/plain": [
       "<Figure size 432x288 with 1 Axes>"
      ]
     },
     "metadata": {
      "needs_background": "light"
     },
     "output_type": "display_data"
    }
   ],
   "source": [
    "sns.distplot(df['bedroomcnt'], kde=False)"
   ]
  },
  {
   "cell_type": "markdown",
   "id": "64d359e9",
   "metadata": {},
   "source": [
    "Takeaway: \n",
    "- Bedroom Count appears normally distributed"
   ]
  },
  {
   "cell_type": "code",
   "execution_count": 325,
   "id": "e33e6c92",
   "metadata": {},
   "outputs": [
    {
     "data": {
      "text/plain": [
       "<AxesSubplot:xlabel='bathroomcnt'>"
      ]
     },
     "execution_count": 325,
     "metadata": {},
     "output_type": "execute_result"
    },
    {
     "data": {
      "image/png": "[encoded data removed]",
      "text/plain": [
       "<Figure size 432x288 with 1 Axes>"
      ]
     },
     "metadata": {
      "needs_background": "light"
     },
     "output_type": "display_data"
    }
   ],
   "source": [
    "sns.distplot(df['bathroomcnt'], kde=False)"
   ]
  },
  {
   "cell_type": "markdown",
   "id": "fb812e4b",
   "metadata": {},
   "source": [
    "Takeaway: \n",
    "- Bathroom Count appears normally distributed"
   ]
  },
  {
   "cell_type": "code",
   "execution_count": 326,
   "id": "2a183b21",
   "metadata": {},
   "outputs": [
    {
     "data": {
      "text/plain": [
       "<AxesSubplot:xlabel='calculatedfinishedsquarefeet'>"
      ]
     },
     "execution_count": 326,
     "metadata": {},
     "output_type": "execute_result"
    },
    {
     "data": {
      "image/png": "[encoded data removed]",
      "text/plain": [
       "<Figure size 432x288 with 1 Axes>"
      ]
     },
     "metadata": {
      "needs_background": "light"
     },
     "output_type": "display_data"
    }
   ],
   "source": [
    "sns.distplot(df['calculatedfinishedsquarefeet'], kde=False)"
   ]
  },
  {
   "cell_type": "markdown",
   "id": "707d2b50",
   "metadata": {},
   "source": [
    "Takeaway: \n",
    "- Calculated Square Feet appears normally distributed"
   ]
  },
  {
   "cell_type": "code",
   "execution_count": 327,
   "id": "d899148d",
   "metadata": {},
   "outputs": [
    {
     "data": {
      "text/plain": [
       "<AxesSubplot:xlabel='taxvaluedollarcnt'>"
      ]
     },
     "execution_count": 327,
     "metadata": {},
     "output_type": "execute_result"
    },
    {
     "data": {
      "image/png": "[encoded data removed]",
      "text/plain": [
       "<Figure size 432x288 with 1 Axes>"
      ]
     },
     "metadata": {
      "needs_background": "light"
     },
     "output_type": "display_data"
    }
   ],
   "source": [
    "sns.distplot(df['taxvaluedollarcnt'], kde=False)"
   ]
  },
  {
   "cell_type": "markdown",
   "id": "b4c199f8",
   "metadata": {},
   "source": [
    "Takeaway: \n",
    "- Most of the homes appear to have a value of 150000\n",
    "- As the property tax value increases, the number of homes decreases"
   ]
  },
  {
   "cell_type": "code",
   "execution_count": 328,
   "id": "f3de6889",
   "metadata": {},
   "outputs": [
    {
     "data": {
      "text/plain": [
       "<AxesSubplot:xlabel='yearbuilt'>"
      ]
     },
     "execution_count": 328,
     "metadata": {},
     "output_type": "execute_result"
    },
    {
     "data": {
      "image/png": "[encoded data removed]",
      "text/plain": [
       "<Figure size 432x288 with 1 Axes>"
      ]
     },
     "metadata": {
      "needs_background": "light"
     },
     "output_type": "display_data"
    }
   ],
   "source": [
    "sns.distplot(df['yearbuilt'], kde=False)"
   ]
  },
  {
   "cell_type": "markdown",
   "id": "319c5741",
   "metadata": {},
   "source": [
    "Takeaway: \n",
    "- Year built appears to be normally distributed \n",
    "- Home builds peaked between 1940 and 1960"
   ]
  },
  {
   "cell_type": "code",
   "execution_count": 330,
   "id": "5eed1b8d",
   "metadata": {},
   "outputs": [],
   "source": [
    "# fips, yearbuilt, and bedrooms can be integers\n",
    "df[\"fips\"] = df[\"fips\"].astype(int)\n",
    "df[\"yearbuilt\"] = df[\"yearbuilt\"].astype(int)\n",
    "df[\"bedroomcnt\"] = df[\"bedroomcnt\"].astype(int)\n",
    "df[\"taxvaluedollarcnt\"] = df[\"taxvaluedollarcnt\"].astype(int)\n",
    "df[\"calculatedfinishedsquarefeet\"] = df[\"calculatedfinishedsquarefeet\"].astype(int)"
   ]
  },
  {
   "cell_type": "code",
   "execution_count": 337,
   "id": "72e8db86",
   "metadata": {},
   "outputs": [
    {
     "data": {
      "text/plain": [
       "6037    29118\n",
       "6059    11399\n",
       "6111     3756\n",
       "Name: fips, dtype: int64"
      ]
     },
     "execution_count": 337,
     "metadata": {},
     "output_type": "execute_result"
    }
   ],
   "source": [
    "df.fips.value_counts()"
   ]
  },
  {
   "cell_type": "code",
   "execution_count": null,
   "id": "ca9824bd",
   "metadata": {},
   "outputs": [],
   "source": []
  },
  {
   "cell_type": "code",
   "execution_count": null,
   "id": "0cbcb0de",
   "metadata": {},
   "outputs": [],
   "source": []
  },
  {
   "cell_type": "code",
   "execution_count": null,
   "id": "dafa08f4",
   "metadata": {},
   "outputs": [],
   "source": []
  },
  {
   "cell_type": "code",
   "execution_count": null,
   "id": "f4a44ba5",
   "metadata": {},
   "outputs": [],
   "source": []
  },
  {
   "cell_type": "code",
   "execution_count": null,
   "id": "d0eecb3e",
   "metadata": {},
   "outputs": [],
   "source": []
  },
  {
   "cell_type": "code",
   "execution_count": null,
   "id": "74df17d8",
   "metadata": {},
   "outputs": [],
   "source": []
  }
 ],
 "metadata": {
  "kernelspec": {
   "display_name": "Python 3 (ipykernel)",
   "language": "python",
   "name": "python3"
  },
  "language_info": {
   "codemirror_mode": {
    "name": "ipython",
    "version": 3
   },
   "file_extension": ".py",
   "mimetype": "text/x-python",
   "name": "python",
   "nbconvert_exporter": "python",
   "pygments_lexer": "ipython3",
   "version": "3.9.7"
  }
 },
 "nbformat": 4,
 "nbformat_minor": 5
}
